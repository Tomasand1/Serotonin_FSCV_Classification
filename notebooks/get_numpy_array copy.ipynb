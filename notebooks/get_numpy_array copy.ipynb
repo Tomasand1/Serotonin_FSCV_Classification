{
 "cells": [
  {
   "cell_type": "code",
   "execution_count": 1,
   "id": "319bd69c",
   "metadata": {},
   "outputs": [],
   "source": [
    "#Read colorplots of 10 seconds.\n",
    "import numpy as np \n",
    "import pandas as pd\n",
    "import os\n",
    "from natsort import natsorted\n",
    "directory =  r\"C:\\Users\\sergi\\OneDrive - Imperial College London\\Files\\Code Files\\Dopamine CNN detection dataset\\5HT_DATASET\\Norm 10s\"\n",
    "all_files = os.listdir(directory)   # imagine you're one directory above test dir\n",
    "txt_files = natsorted(list(filter(lambda x: x[-4:] == '.txt', all_files)))\n",
    "CVs = []\n",
    "for file in txt_files: \n",
    "    matrix = open(directory+\"/\"+file).read()\n",
    "    matrix = np.array([item.split() for item in matrix.split('\\n')[:-1]]).astype('float32')\n",
    "    CVs.append(matrix)\n",
    "CVs = np.array(CVs)\n"
   ]
  },
  {
   "cell_type": "code",
   "execution_count": 2,
   "id": "9464469e",
   "metadata": {},
   "outputs": [],
   "source": [
    "np.savez_compressed('data.npz', a=np.array(CVs))"
   ]
  },
  {
   "cell_type": "code",
   "execution_count": null,
   "id": "1dd74ffc",
   "metadata": {},
   "outputs": [],
   "source": []
  }
 ],
 "metadata": {
  "kernelspec": {
   "display_name": "Python 3 (ipykernel)",
   "language": "python",
   "name": "python3"
  },
  "language_info": {
   "codemirror_mode": {
    "name": "ipython",
    "version": 3
   },
   "file_extension": ".py",
   "mimetype": "text/x-python",
   "name": "python",
   "nbconvert_exporter": "python",
   "pygments_lexer": "ipython3",
   "version": "3.9.10"
  }
 },
 "nbformat": 4,
 "nbformat_minor": 5
}
