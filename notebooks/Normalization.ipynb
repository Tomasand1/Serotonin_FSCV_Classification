{
 "cells": [
  {
   "cell_type": "code",
   "execution_count": 1,
   "id": "cc82bb7e-f10d-49b9-a125-0deff90fd4e6",
   "metadata": {},
   "outputs": [],
   "source": [
    "import numpy as np \n",
    "import pandas as pd\n",
    "import os\n",
    "directory =  r\"C:\\Users\\sergi\\OneDrive - Imperial College London\\Files\\Code Files\\Dopamine CNN detection dataset\\5HT_DATASET\\10s\"\n",
    "all_files = os.listdir(directory)   # imagine you're one directory above test dir\n",
    "txt_files = list(filter(lambda x: x[-4:] == '.txt', all_files))\n",
    "CVs = []\n",
    "for file in txt_files: \n",
    "    matrix = open(directory+\"/\"+file).read()\n",
    "    matrix = np.array([item.split() for item in matrix.split('\\n')[:-1]]).astype('float32')\n",
    "    matrix = (matrix - matrix.mean())/(matrix.std())\n",
    "    CVs.append(matrix)\n",
    "CVs = np.array(CVs)\n",
    "\n",
    "counter = 1\n",
    "for c in CVs:\n",
    "    np.savetxt(str(counter)+'.txt', c, delimiter=\"\\t\")\n",
    "    counter = counter + 1"
   ]
  },
  {
   "cell_type": "code",
   "execution_count": null,
   "id": "803e0d60-cd79-4a7b-9453-95e4db69d6a9",
   "metadata": {},
   "outputs": [],
   "source": []
  }
 ],
 "metadata": {
  "kernelspec": {
   "display_name": "Python 3 (ipykernel)",
   "language": "python",
   "name": "python3"
  },
  "language_info": {
   "codemirror_mode": {
    "name": "ipython",
    "version": 3
   },
   "file_extension": ".py",
   "mimetype": "text/x-python",
   "name": "python",
   "nbconvert_exporter": "python",
   "pygments_lexer": "ipython3",
   "version": "3.9.10"
  }
 },
 "nbformat": 4,
 "nbformat_minor": 5
}
