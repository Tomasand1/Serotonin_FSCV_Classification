{
 "cells": [
  {
   "cell_type": "code",
   "execution_count": 1,
   "metadata": {},
   "outputs": [],
   "source": [
    "\n",
    "import numpy as np\n",
    "import keras\n",
    "import pandas as pd\n",
    "import matplotlib.pyplot as plt\n",
    "from tensorflow.keras.models import Sequential\n",
    "from tensorflow.keras.layers import Dense\n",
    "from tensorflow.keras.utils import plot_model\n",
    "\n",
    "from tensorflow.keras.models import Sequential\n",
    "from tensorflow.keras.layers import Conv2D, MaxPool2D, Dense, Flatten, Dropout, BatchNormalization, LayerNormalization,LeakyReLU, Softmax\n",
    "from tensorflow.keras.callbacks import EarlyStopping, ModelCheckpoint, LearningRateScheduler, ReduceLROnPlateau\n",
    "from sklearn.model_selection import KFold\n",
    "import tensorflow as tf\n",
    "from tensorflow.keras.models import load_model\n",
    "from keras.preprocessing.image import ImageDataGenerator"
   ]
  },
  {
   "cell_type": "code",
   "execution_count": 2,
   "metadata": {},
   "outputs": [],
   "source": [
    "import numpy as np\n",
    "from sklearn.utils.class_weight import compute_class_weight\n",
    "from sklearn.preprocessing import MultiLabelBinarizer\n",
    "\n",
    "\n",
    "def generate_class_weights(class_series, multi_class=True, one_hot_encoded=False):\n",
    "  if multi_class:\n",
    "    # If class is one hot encoded, transform to categorical labels to use compute_class_weight   \n",
    "    if one_hot_encoded:\n",
    "      class_series = np.argmax(class_series, axis=1)\n",
    "  \n",
    "    # Compute class weights with sklearn method\n",
    "    class_labels = np.unique(class_series)\n",
    "    class_weights = compute_class_weight(class_weight='balanced', classes=class_labels, y=class_series)\n",
    "    return dict(zip(class_labels, class_weights))\n",
    "  else:\n",
    "    # It is neccessary that the multi-label values are one-hot encoded\n",
    "    mlb = None\n",
    "    if not one_hot_encoded:\n",
    "      mlb = MultiLabelBinarizer()\n",
    "      class_series = mlb.fit_transform(class_series)\n",
    "\n",
    "    n_samples = len(class_series)\n",
    "    n_classes = len(class_series[0])\n",
    "\n",
    "    # Count each class frequency\n",
    "    class_count = [0] * n_classes\n",
    "    for classes in class_series:\n",
    "        for index in range(n_classes):\n",
    "            if classes[index] != 0:\n",
    "                class_count[index] += 1\n",
    "    \n",
    "    # Compute class weights using balanced method\n",
    "    class_weights = [n_samples / (n_classes * freq) if freq > 0 else 1 for freq in class_count]\n",
    "    class_labels = range(len(class_weights)) if mlb is None else mlb.classes_\n",
    "    return dict(zip(class_labels, class_weights))"
   ]
  },
  {
   "cell_type": "code",
   "execution_count": 3,
   "metadata": {},
   "outputs": [],
   "source": [
    "#Load colorplot datasets. \n",
    "X = np.load('data.npz')['a'].reshape(5179, 200, 100, 1)\n",
    "\n",
    "#Creating the labels. \n",
    "y = pd.read_excel('Labels_v1.xlsx', header = None).values\n",
    "\n",
    "#Shuffling the dataset.\n",
    "shuffler = np.random.permutation(len(y))\n",
    "X = X[shuffler]\n",
    "y = y[shuffler]\n",
    "class_weights = generate_class_weights(y[:,0])"
   ]
  },
  {
   "cell_type": "code",
   "execution_count": 5,
   "metadata": {},
   "outputs": [],
   "source": [
    "def train(net, filename):\n",
    "    inputs = X\n",
    "    \n",
    "    # Define the K-fold Cross Validator\n",
    "    num_folds = 5\n",
    "    kfold = KFold(n_splits=num_folds, shuffle=True)\n",
    "\n",
    "    es = EarlyStopping(monitor='val_loss', mode='min', patience=20, min_delta=0.2)\n",
    "    mc = ModelCheckpoint('best_modelCNN.h5', monitor='val_loss',\n",
    "                     mode='min', verbose=1, save_best_only=True)\n",
    "    # # annealer = LearningRateScheduler(lambda x: 1e-3 * 0.95 ** x)\n",
    "    # # reduce_lr = ReduceLROnPlateau(monitor='val_loss', factor=0.1, patience=5, min_lr=1e-6, min_delta=0.0001, verbose=1)\n",
    "    # datagen = ImageDataGenerator(featurewise_center=False, featurewise_std_normalization=False,\n",
    "    #                             rotation_range=10,\n",
    "    #                             fill_mode='nearest',\n",
    "    #                             width_shift_range=0.1,\n",
    "    #                             height_shift_range=0.1,\n",
    "    #                             zoom_range=0.1,\n",
    "    #                             # preprocessing_function= blur\n",
    "    #                             )\n",
    "    \n",
    "    \n",
    "    # opt = tf.keras.optimizers.Adam(\n",
    "    # learning_rate=0.001,\n",
    "    # beta_1=0.9,\n",
    "    # beta_2=0.999,\n",
    "    # epsilon=1e-07,\n",
    "    # amsgrad=False,\n",
    "    # name=\"Adam\",    \n",
    "    # )\n",
    "    \n",
    "    net.compile(loss='binary_crossentropy',\n",
    "                optimizer=\"adam\", metrics=\"accuracy\")\n",
    "\n",
    "    targets = np.asarray(y).astype('float32').reshape((-1,1))\n",
    "    # K-fold Cross Validation model evaluation\n",
    "    fold_no = 1\n",
    "    for train, test in kfold.split(inputs, targets):\n",
    "        #Train the model\n",
    "        history = net.fit(inputs[train], targets[train],                       # changed expression for test features and labels\n",
    "        validation_split=0.25,                                 # I removed validation for k-fold cross validation\n",
    "        verbose=1, epochs=25, \n",
    "        class_weight = class_weights, callbacks=[es])\n",
    "        \n",
    "        plt.figure()\n",
    "        plt.plot(history.history['loss'], label='training loss')\n",
    "        plt.plot(history.history['val_loss'], label='validation loss')\n",
    "        plt.xlabel('epochs')\n",
    "        plt.ylabel('loss')\n",
    "        plt.legend()\n",
    "\n",
    "        plt.show()\n",
    "        #Prediction of the validation dataset \n",
    "        test_predictions = net.predict(inputs[test]).flatten()\n",
    "        fold_no = fold_no + 1\n",
    "\n",
    "    net.save(filename)"
   ]
  },
  {
   "cell_type": "code",
   "execution_count": 15,
   "metadata": {},
   "outputs": [],
   "source": [
    "\n",
    "def build_cnn():\n",
    "    net = Sequential()\n",
    "#     net.add(BatchNormalization(input_shape=(200, 100, 1)))\n",
    "    net.add(Conv2D(activation=LeakyReLU(),filters=32, kernel_size=(3, 3), input_shape=(200, 100, 1)))\n",
    "    net.add(Conv2D(activation=LeakyReLU(),filters=32, kernel_size=(3, 3)))\n",
    "    net.add(MaxPool2D(pool_size=(2, 2)))\n",
    "    net.add(Conv2D(activation=LeakyReLU(),filters=64, kernel_size=(3, 3)))\n",
    "    net.add(Conv2D(activation=LeakyReLU(),filters=64, kernel_size=(3, 3)))\n",
    "    net.add(MaxPool2D(pool_size=(2, 2)))\n",
    "    net.add(Flatten())\n",
    "    net.add(Dense(512, activation=LeakyReLU()))\n",
    "#     net.add(Dropout(rate=0.5))\n",
    "    net.add(Dense(512, activation=LeakyReLU()))\n",
    "    net.add(Dense(2, activation='softmax'))\n",
    "    net.add(Flatten())\n",
    "\n",
    "    # net.build(input_shape=(200, 100, 1))\n",
    "    summary = net.summary()\n",
    "\n",
    "    plot_model(net, to_file='network_structure.png', show_shapes=True)\n",
    "\n",
    "    print(summary)\n",
    "\n",
    "    return net"
   ]
  },
  {
   "cell_type": "code",
   "execution_count": 16,
   "metadata": {},
   "outputs": [],
   "source": [
    "def test(filename):\n",
    "    net = load_model(filename)\n",
    "    labels_train = y\n",
    "    \n",
    "    outputs = net.predict(X)\n",
    "    labels_predicted = np.argmax(outputs, axis=1)\n",
    "    misclassified = sum(labels_predicted != labels_train)\n",
    "    print('Percentage misclassified = ',\n",
    "          100*misclassified/labels_train.size)\n",
    "\n",
    "#     plt.figure(figsize=(8, 2))\n",
    "# #     for i in range(0, 8):\n",
    "# #         ax = plt.subplot(2, 8, i+1)\n",
    "# #         plt.imshow(X[i, :].reshape(200, 100), cmap=plt.get_cmap('gray_r'))\n",
    "# #         plt.title(labels_train[i])\n",
    "# #         ax.get_xaxis().set_visible(False)\n",
    "# #         ax.get_yaxis().set_visible(False)\n",
    "# #     for i in range(0, 8):\n",
    "# #         output = net.predict(X[i, :].reshape(1, 200, 100, 1))\n",
    "# #         output = output[0, 0:]\n",
    "# #         plt.subplot(2, 8, 8+i+1)\n",
    "# #         plt.bar(np.arange(10.), output)\n",
    "# #         plt.title(np.argmax(output))\n",
    "\n",
    "    net.summary()\n",
    "    from tensorflow.keras.utils import plot_model\n",
    "    plot_model(net, to_file='network_structure_v2.png', show_shapes=True)\n",
    "    plt.show()\n"
   ]
  },
  {
   "cell_type": "code",
   "execution_count": 17,
   "metadata": {},
   "outputs": [
    {
     "name": "stdout",
     "output_type": "stream",
     "text": [
      "Model: \"sequential_3\"\n",
      "_________________________________________________________________\n",
      " Layer (type)                Output Shape              Param #   \n",
      "=================================================================\n",
      " conv2d_12 (Conv2D)          (None, 198, 98, 32)       320       \n",
      "                                                                 \n",
      " conv2d_13 (Conv2D)          (None, 196, 96, 32)       9248      \n",
      "                                                                 \n",
      " max_pooling2d_6 (MaxPooling  (None, 98, 48, 32)       0         \n",
      " 2D)                                                             \n",
      "                                                                 \n",
      " conv2d_14 (Conv2D)          (None, 96, 46, 64)        18496     \n",
      "                                                                 \n",
      " conv2d_15 (Conv2D)          (None, 94, 44, 64)        36928     \n",
      "                                                                 \n",
      " max_pooling2d_7 (MaxPooling  (None, 47, 22, 64)       0         \n",
      " 2D)                                                             \n",
      "                                                                 \n",
      " flatten_5 (Flatten)         (None, 66176)             0         \n",
      "                                                                 \n",
      " dense_9 (Dense)             (None, 512)               33882624  \n",
      "                                                                 \n",
      " dense_10 (Dense)            (None, 512)               262656    \n",
      "                                                                 \n",
      " dense_11 (Dense)            (None, 2)                 1026      \n",
      "                                                                 \n",
      " flatten_6 (Flatten)         (None, 2)                 0         \n",
      "                                                                 \n",
      "=================================================================\n",
      "Total params: 34,211,298\n",
      "Trainable params: 34,211,298\n",
      "Non-trainable params: 0\n",
      "_________________________________________________________________\n",
      "None\n",
      "Epoch 1/25\n"
     ]
    },
    {
     "name": "stderr",
     "output_type": "stream",
     "text": [
      "2022-02-15 11:39:43.309707: I tensorflow/core/grappler/optimizers/custom_graph_optimizer_registry.cc:112] Plugin optimizer for device_type GPU is enabled.\n"
     ]
    },
    {
     "name": "stdout",
     "output_type": "stream",
     "text": [
      "98/98 [==============================] - ETA: 0s - loss: 0.9551 - accuracy: 0.4918"
     ]
    },
    {
     "name": "stderr",
     "output_type": "stream",
     "text": [
      "2022-02-15 11:40:38.313292: I tensorflow/core/grappler/optimizers/custom_graph_optimizer_registry.cc:112] Plugin optimizer for device_type GPU is enabled.\n"
     ]
    },
    {
     "name": "stdout",
     "output_type": "stream",
     "text": [
      "98/98 [==============================] - 63s 634ms/step - loss: 0.9551 - accuracy: 0.4918 - val_loss: 0.6937 - val_accuracy: 0.7568\n",
      "Epoch 2/25\n",
      "98/98 [==============================] - 58s 589ms/step - loss: 0.8544 - accuracy: 0.4950 - val_loss: 0.6934 - val_accuracy: 0.5058\n",
      "Epoch 3/25\n",
      "98/98 [==============================] - 58s 593ms/step - loss: 0.9361 - accuracy: 0.5233 - val_loss: 0.6956 - val_accuracy: 0.7886\n",
      "Epoch 4/25\n",
      "98/98 [==============================] - 58s 588ms/step - loss: 0.8489 - accuracy: 0.4854 - val_loss: 0.6932 - val_accuracy: 0.5029\n",
      "Epoch 5/25\n",
      "98/98 [==============================] - 52s 525ms/step - loss: 0.8498 - accuracy: 0.5169 - val_loss: 0.6983 - val_accuracy: 0.8292\n",
      "Epoch 6/25\n",
      "98/98 [==============================] - 53s 538ms/step - loss: 0.8539 - accuracy: 0.4516 - val_loss: 0.7010 - val_accuracy: 0.5396\n",
      "Epoch 7/25\n",
      "98/98 [==============================] - 55s 562ms/step - loss: 0.9047 - accuracy: 0.4644 - val_loss: 0.6934 - val_accuracy: 0.5183\n",
      "Epoch 8/25\n",
      "98/98 [==============================] - 57s 575ms/step - loss: 0.8773 - accuracy: 0.4905 - val_loss: 0.7183 - val_accuracy: 0.1708\n",
      "Epoch 9/25\n",
      "98/98 [==============================] - 56s 570ms/step - loss: 0.8512 - accuracy: 0.4857 - val_loss: 0.6932 - val_accuracy: 0.3764\n",
      "Epoch 10/25\n",
      "98/98 [==============================] - 50s 512ms/step - loss: 0.8654 - accuracy: 0.4619 - val_loss: 0.6933 - val_accuracy: 0.4151\n",
      "Epoch 11/25\n",
      "98/98 [==============================] - 53s 545ms/step - loss: 0.8485 - accuracy: 0.4989 - val_loss: 0.6932 - val_accuracy: 0.4015\n",
      "Epoch 12/25\n",
      "98/98 [==============================] - 55s 562ms/step - loss: 0.8487 - accuracy: 0.4953 - val_loss: 0.6933 - val_accuracy: 0.4411\n",
      "Epoch 13/25\n",
      "98/98 [==============================] - 56s 575ms/step - loss: 0.8648 - accuracy: 0.5497 - val_loss: 0.6947 - val_accuracy: 0.7790\n",
      "Epoch 14/25\n",
      "98/98 [==============================] - 53s 536ms/step - loss: 0.8550 - accuracy: 0.5175 - val_loss: 0.6970 - val_accuracy: 0.7249\n",
      "Epoch 15/25\n",
      "98/98 [==============================] - 52s 525ms/step - loss: 0.8529 - accuracy: 0.4577 - val_loss: 0.6939 - val_accuracy: 0.8282\n",
      "Epoch 16/25\n",
      "98/98 [==============================] - 56s 570ms/step - loss: 0.8486 - accuracy: 0.5883 - val_loss: 0.6945 - val_accuracy: 0.8292\n",
      "Epoch 17/25\n",
      "98/98 [==============================] - 55s 566ms/step - loss: 0.8516 - accuracy: 0.4854 - val_loss: 0.6932 - val_accuracy: 0.4373\n",
      "Epoch 18/25\n",
      "98/98 [==============================] - 56s 572ms/step - loss: 0.8486 - accuracy: 0.4986 - val_loss: 0.6932 - val_accuracy: 0.5589\n",
      "Epoch 19/25\n",
      "98/98 [==============================] - 34s 341ms/step - loss: 0.8488 - accuracy: 0.5317 - val_loss: 0.6932 - val_accuracy: 0.3610\n",
      "Epoch 20/25\n",
      "98/98 [==============================] - 54s 547ms/step - loss: 0.8492 - accuracy: 0.4104 - val_loss: 0.6939 - val_accuracy: 0.8282\n",
      "Epoch 21/25\n",
      "98/98 [==============================] - 54s 549ms/step - loss: 0.8529 - accuracy: 0.5047 - val_loss: 0.6933 - val_accuracy: 0.3021\n"
     ]
    },
    {
     "data": {
      "image/png": "[encoded data removed]",
      "text/plain": [
       "<Figure size 432x288 with 1 Axes>"
      ]
     },
     "metadata": {
      "needs_background": "light"
     },
     "output_type": "display_data"
    },
    {
     "name": "stderr",
     "output_type": "stream",
     "text": [
      "2022-02-15 11:58:40.224037: I tensorflow/core/grappler/optimizers/custom_graph_optimizer_registry.cc:112] Plugin optimizer for device_type GPU is enabled.\n"
     ]
    },
    {
     "name": "stdout",
     "output_type": "stream",
     "text": [
      "Epoch 1/25\n",
      "98/98 [==============================] - 55s 559ms/step - loss: 0.8449 - accuracy: 0.4780 - val_loss: 0.6932 - val_accuracy: 0.7539\n",
      "Epoch 2/25\n",
      "98/98 [==============================] - 43s 436ms/step - loss: 0.8434 - accuracy: 0.5014 - val_loss: 0.6985 - val_accuracy: 0.8282\n",
      "Epoch 3/25\n",
      "98/98 [==============================] - 30s 303ms/step - loss: 0.8444 - accuracy: 0.5053 - val_loss: 0.6947 - val_accuracy: 0.8214\n",
      "Epoch 4/25\n",
      "98/98 [==============================] - 30s 308ms/step - loss: 0.8434 - accuracy: 0.5993 - val_loss: 0.6932 - val_accuracy: 0.2326\n",
      "Epoch 5/25\n",
      "98/98 [==============================] - 30s 310ms/step - loss: 0.8438 - accuracy: 0.4924 - val_loss: 0.6932 - val_accuracy: 0.5454\n",
      "Epoch 6/25\n",
      "98/98 [==============================] - 30s 304ms/step - loss: 0.8454 - accuracy: 0.4902 - val_loss: 0.6932 - val_accuracy: 0.5270\n",
      "Epoch 7/25\n",
      "98/98 [==============================] - 31s 315ms/step - loss: 0.8437 - accuracy: 0.4689 - val_loss: 0.6932 - val_accuracy: 0.4517\n",
      "Epoch 8/25\n",
      "98/98 [==============================] - 30s 304ms/step - loss: 0.8441 - accuracy: 0.5385 - val_loss: 0.6932 - val_accuracy: 0.6342\n",
      "Epoch 9/25\n",
      "98/98 [==============================] - 30s 309ms/step - loss: 0.8444 - accuracy: 0.4654 - val_loss: 0.6932 - val_accuracy: 0.4846\n",
      "Epoch 10/25\n",
      "98/98 [==============================] - 30s 306ms/step - loss: 0.8441 - accuracy: 0.4718 - val_loss: 0.6932 - val_accuracy: 0.8012\n",
      "Epoch 11/25\n",
      "98/98 [==============================] - 30s 302ms/step - loss: 0.8434 - accuracy: 0.3798 - val_loss: 0.6933 - val_accuracy: 0.7867\n",
      "Epoch 12/25\n",
      "98/98 [==============================] - 31s 320ms/step - loss: 0.8443 - accuracy: 0.4290 - val_loss: 0.6932 - val_accuracy: 0.4653\n",
      "Epoch 13/25\n",
      "98/98 [==============================] - 29s 300ms/step - loss: 0.8445 - accuracy: 0.3318 - val_loss: 0.6935 - val_accuracy: 0.8282\n",
      "Epoch 14/25\n",
      "98/98 [==============================] - 30s 309ms/step - loss: 0.8435 - accuracy: 0.5224 - val_loss: 0.6932 - val_accuracy: 0.6496\n",
      "Epoch 15/25\n",
      "98/98 [==============================] - 31s 318ms/step - loss: 0.8434 - accuracy: 0.4191 - val_loss: 0.6932 - val_accuracy: 0.8282\n",
      "Epoch 16/25\n",
      "98/98 [==============================] - 31s 318ms/step - loss: 0.8434 - accuracy: 0.5426 - val_loss: 0.6940 - val_accuracy: 0.8282\n",
      "Epoch 17/25\n",
      "98/98 [==============================] - 31s 316ms/step - loss: 0.8434 - accuracy: 0.5172 - val_loss: 0.6931 - val_accuracy: 0.4604\n",
      "Epoch 18/25\n",
      "98/98 [==============================] - 31s 318ms/step - loss: 0.8434 - accuracy: 0.4506 - val_loss: 0.6932 - val_accuracy: 0.5154\n",
      "Epoch 19/25\n",
      "98/98 [==============================] - 31s 321ms/step - loss: 0.8434 - accuracy: 0.4603 - val_loss: 0.6932 - val_accuracy: 0.7461\n",
      "Epoch 20/25\n",
      "98/98 [==============================] - 31s 316ms/step - loss: 0.8436 - accuracy: 0.5246 - val_loss: 0.6933 - val_accuracy: 0.1718\n",
      "Epoch 21/25\n",
      "98/98 [==============================] - 30s 308ms/step - loss: 0.8433 - accuracy: 0.4541 - val_loss: 0.6932 - val_accuracy: 0.2954\n"
     ]
    },
    {
     "data": {
      "image/png": "[encoded data removed]",
      "text/plain": [
       "<Figure size 432x288 with 1 Axes>"
      ]
     },
     "metadata": {
      "needs_background": "light"
     },
     "output_type": "display_data"
    },
    {
     "name": "stdout",
     "output_type": "stream",
     "text": [
      "Epoch 1/25\n",
      "98/98 [==============================] - 31s 315ms/step - loss: 0.8459 - accuracy: 0.5204 - val_loss: 0.6942 - val_accuracy: 0.8388\n",
      "Epoch 2/25\n",
      "98/98 [==============================] - 30s 306ms/step - loss: 0.8470 - accuracy: 0.5288 - val_loss: 0.6932 - val_accuracy: 0.3475\n",
      "Epoch 3/25\n",
      "98/98 [==============================] - 31s 317ms/step - loss: 0.8464 - accuracy: 0.5079 - val_loss: 0.6932 - val_accuracy: 0.7886\n",
      "Epoch 4/25\n",
      "98/98 [==============================] - 30s 308ms/step - loss: 0.8470 - accuracy: 0.4889 - val_loss: 0.6932 - val_accuracy: 0.5154\n",
      "Epoch 5/25\n",
      "98/98 [==============================] - 30s 304ms/step - loss: 0.8463 - accuracy: 0.4899 - val_loss: 0.6938 - val_accuracy: 0.1612\n",
      "Epoch 6/25\n",
      "98/98 [==============================] - 31s 317ms/step - loss: 0.8483 - accuracy: 0.5462 - val_loss: 0.6932 - val_accuracy: 0.2432\n",
      "Epoch 7/25\n",
      "98/98 [==============================] - 31s 314ms/step - loss: 0.8459 - accuracy: 0.4184 - val_loss: 0.6931 - val_accuracy: 0.3089\n",
      "Epoch 8/25\n",
      "98/98 [==============================] - 30s 305ms/step - loss: 0.8459 - accuracy: 0.4683 - val_loss: 0.6931 - val_accuracy: 0.6255\n",
      "Epoch 9/25\n",
      "98/98 [==============================] - 31s 312ms/step - loss: 0.8459 - accuracy: 0.4287 - val_loss: 0.6932 - val_accuracy: 0.8388\n",
      "Epoch 10/25\n",
      "98/98 [==============================] - 29s 297ms/step - loss: 0.8459 - accuracy: 0.4612 - val_loss: 0.6932 - val_accuracy: 0.8378\n",
      "Epoch 11/25\n",
      "98/98 [==============================] - 30s 304ms/step - loss: 0.8463 - accuracy: 0.4998 - val_loss: 0.6931 - val_accuracy: 0.3195\n",
      "Epoch 12/25\n",
      "98/98 [==============================] - 31s 316ms/step - loss: 0.8459 - accuracy: 0.4538 - val_loss: 0.6931 - val_accuracy: 0.1728\n",
      "Epoch 13/25\n",
      "98/98 [==============================] - 30s 302ms/step - loss: 0.8459 - accuracy: 0.4261 - val_loss: 0.6931 - val_accuracy: 0.8166\n",
      "Epoch 14/25\n",
      "98/98 [==============================] - 29s 297ms/step - loss: 0.8459 - accuracy: 0.4786 - val_loss: 0.6931 - val_accuracy: 0.5270\n",
      "Epoch 15/25\n",
      "98/98 [==============================] - 31s 319ms/step - loss: 0.8459 - accuracy: 0.4351 - val_loss: 0.6931 - val_accuracy: 0.4875\n",
      "Epoch 16/25\n",
      "98/98 [==============================] - 30s 305ms/step - loss: 0.8459 - accuracy: 0.4654 - val_loss: 0.6931 - val_accuracy: 0.8263\n",
      "Epoch 17/25\n",
      "98/98 [==============================] - 29s 294ms/step - loss: 0.8459 - accuracy: 0.4483 - val_loss: 0.6931 - val_accuracy: 0.4585\n",
      "Epoch 18/25\n",
      "98/98 [==============================] - 31s 316ms/step - loss: 0.8459 - accuracy: 0.4026 - val_loss: 0.6931 - val_accuracy: 0.3793\n",
      "Epoch 19/25\n",
      "98/98 [==============================] - 31s 313ms/step - loss: 0.8459 - accuracy: 0.4660 - val_loss: 0.6931 - val_accuracy: 0.6757\n",
      "Epoch 20/25\n",
      "98/98 [==============================] - 30s 309ms/step - loss: 0.8459 - accuracy: 0.4310 - val_loss: 0.6931 - val_accuracy: 0.3986\n",
      "Epoch 21/25\n",
      "98/98 [==============================] - 31s 321ms/step - loss: 0.8459 - accuracy: 0.4448 - val_loss: 0.6931 - val_accuracy: 0.5608\n"
     ]
    },
    {
     "data": {
      "image/png": "[encoded data removed]",
      "text/plain": [
       "<Figure size 432x288 with 1 Axes>"
      ]
     },
     "metadata": {
      "needs_background": "light"
     },
     "output_type": "display_data"
    },
    {
     "name": "stdout",
     "output_type": "stream",
     "text": [
      "Epoch 1/25\n",
      "98/98 [==============================] - 30s 305ms/step - loss: 0.8474 - accuracy: 0.4178 - val_loss: 0.6931 - val_accuracy: 0.2095\n",
      "Epoch 2/25\n",
      "98/98 [==============================] - 30s 309ms/step - loss: 0.8474 - accuracy: 0.4641 - val_loss: 0.6931 - val_accuracy: 0.3745\n",
      "Epoch 3/25\n",
      "98/98 [==============================] - 31s 312ms/step - loss: 0.8474 - accuracy: 0.4207 - val_loss: 0.6931 - val_accuracy: 0.8060\n",
      "Epoch 4/25\n",
      "98/98 [==============================] - 29s 299ms/step - loss: 0.8474 - accuracy: 0.4982 - val_loss: 0.6931 - val_accuracy: 0.4189\n",
      "Epoch 5/25\n",
      "98/98 [==============================] - 30s 304ms/step - loss: 0.8474 - accuracy: 0.4902 - val_loss: 0.6931 - val_accuracy: 0.4112\n",
      "Epoch 6/25\n",
      "98/98 [==============================] - 30s 306ms/step - loss: 0.8474 - accuracy: 0.4731 - val_loss: 0.6931 - val_accuracy: 0.3803\n",
      "Epoch 7/25\n",
      "98/98 [==============================] - 30s 303ms/step - loss: 0.8474 - accuracy: 0.5166 - val_loss: 0.6931 - val_accuracy: 0.1708\n",
      "Epoch 8/25\n",
      "98/98 [==============================] - 30s 311ms/step - loss: 0.8474 - accuracy: 0.4564 - val_loss: 0.6931 - val_accuracy: 0.4749\n",
      "Epoch 9/25\n",
      "98/98 [==============================] - 30s 310ms/step - loss: 0.8474 - accuracy: 0.4310 - val_loss: 0.6932 - val_accuracy: 0.1708\n",
      "Epoch 10/25\n",
      "98/98 [==============================] - 30s 305ms/step - loss: 0.8474 - accuracy: 0.5211 - val_loss: 0.6932 - val_accuracy: 0.1708\n",
      "Epoch 11/25\n",
      "98/98 [==============================] - 30s 303ms/step - loss: 0.8474 - accuracy: 0.4541 - val_loss: 0.6931 - val_accuracy: 0.5550\n",
      "Epoch 12/25\n",
      "98/98 [==============================] - 30s 310ms/step - loss: 0.8474 - accuracy: 0.5497 - val_loss: 0.6932 - val_accuracy: 0.8301\n",
      "Epoch 13/25\n",
      "98/98 [==============================] - 30s 308ms/step - loss: 0.8474 - accuracy: 0.4783 - val_loss: 0.6931 - val_accuracy: 0.7442\n",
      "Epoch 14/25\n",
      "98/98 [==============================] - 32s 326ms/step - loss: 0.8474 - accuracy: 0.4876 - val_loss: 0.6931 - val_accuracy: 0.5849\n",
      "Epoch 15/25\n",
      "98/98 [==============================] - 30s 309ms/step - loss: 0.8474 - accuracy: 0.4152 - val_loss: 0.6932 - val_accuracy: 0.1708\n",
      "Epoch 16/25\n",
      "98/98 [==============================] - 30s 304ms/step - loss: 0.8474 - accuracy: 0.4712 - val_loss: 0.6931 - val_accuracy: 0.6544\n",
      "Epoch 17/25\n",
      "98/98 [==============================] - 31s 317ms/step - loss: 0.8474 - accuracy: 0.5594 - val_loss: 0.6931 - val_accuracy: 0.3948\n",
      "Epoch 18/25\n",
      "98/98 [==============================] - 30s 302ms/step - loss: 0.8474 - accuracy: 0.4438 - val_loss: 0.6931 - val_accuracy: 0.5319\n",
      "Epoch 19/25\n",
      "98/98 [==============================] - 31s 314ms/step - loss: 0.8474 - accuracy: 0.4413 - val_loss: 0.6931 - val_accuracy: 0.4469\n",
      "Epoch 20/25\n",
      "98/98 [==============================] - 32s 325ms/step - loss: 0.8474 - accuracy: 0.4590 - val_loss: 0.6931 - val_accuracy: 0.3378\n",
      "Epoch 21/25\n",
      "98/98 [==============================] - 30s 306ms/step - loss: 0.8474 - accuracy: 0.4232 - val_loss: 0.6931 - val_accuracy: 0.5405\n"
     ]
    },
    {
     "data": {
      "image/png": "[encoded data removed]",
      "text/plain": [
       "<Figure size 432x288 with 1 Axes>"
      ]
     },
     "metadata": {
      "needs_background": "light"
     },
     "output_type": "display_data"
    },
    {
     "name": "stdout",
     "output_type": "stream",
     "text": [
      "Epoch 1/25\n",
      "98/98 [==============================] - 30s 308ms/step - loss: 0.4586 - accuracy: 0.4659 - val_loss: 0.6931 - val_accuracy: 0.4498\n",
      "Epoch 2/25\n",
      "98/98 [==============================] - 31s 312ms/step - loss: 0.4586 - accuracy: 0.4636 - val_loss: 0.6931 - val_accuracy: 0.4604\n",
      "Epoch 3/25\n",
      "98/98 [==============================] - 29s 295ms/step - loss: 0.4586 - accuracy: 0.4665 - val_loss: 0.6931 - val_accuracy: 0.4305\n",
      "Epoch 4/25\n",
      "98/98 [==============================] - 29s 297ms/step - loss: 0.4586 - accuracy: 0.4614 - val_loss: 0.6931 - val_accuracy: 0.4411\n",
      "Epoch 5/25\n",
      "98/98 [==============================] - 30s 310ms/step - loss: 0.4586 - accuracy: 0.4601 - val_loss: 0.6931 - val_accuracy: 0.4546\n",
      "Epoch 6/25\n",
      "98/98 [==============================] - 30s 301ms/step - loss: 0.4586 - accuracy: 0.4649 - val_loss: 0.6931 - val_accuracy: 0.4778\n",
      "Epoch 7/25\n",
      "98/98 [==============================] - 30s 301ms/step - loss: 0.4586 - accuracy: 0.4633 - val_loss: 0.6931 - val_accuracy: 0.4971\n",
      "Epoch 8/25\n",
      "98/98 [==============================] - 31s 319ms/step - loss: 0.4586 - accuracy: 0.4662 - val_loss: 0.6931 - val_accuracy: 0.4266\n",
      "Epoch 9/25\n",
      "98/98 [==============================] - 31s 312ms/step - loss: 0.4586 - accuracy: 0.4672 - val_loss: 0.6931 - val_accuracy: 0.4807\n",
      "Epoch 10/25\n",
      "98/98 [==============================] - 32s 327ms/step - loss: 0.4586 - accuracy: 0.4669 - val_loss: 0.6931 - val_accuracy: 0.4710\n",
      "Epoch 11/25\n",
      "98/98 [==============================] - 30s 305ms/step - loss: 0.4586 - accuracy: 0.4723 - val_loss: 0.6931 - val_accuracy: 0.4324\n",
      "Epoch 12/25\n",
      "98/98 [==============================] - 29s 300ms/step - loss: 0.4586 - accuracy: 0.4694 - val_loss: 0.6931 - val_accuracy: 0.4817\n",
      "Epoch 13/25\n",
      "98/98 [==============================] - 30s 309ms/step - loss: 0.4586 - accuracy: 0.4765 - val_loss: 0.6931 - val_accuracy: 0.4836\n",
      "Epoch 14/25\n",
      "98/98 [==============================] - 31s 315ms/step - loss: 0.4586 - accuracy: 0.4781 - val_loss: 0.6931 - val_accuracy: 0.4990\n",
      "Epoch 15/25\n",
      "98/98 [==============================] - 30s 304ms/step - loss: 0.4586 - accuracy: 0.4820 - val_loss: 0.6931 - val_accuracy: 0.4064\n",
      "Epoch 16/25\n",
      "98/98 [==============================] - 29s 298ms/step - loss: 0.4586 - accuracy: 0.4694 - val_loss: 0.6931 - val_accuracy: 0.4932\n",
      "Epoch 17/25\n",
      "98/98 [==============================] - 31s 320ms/step - loss: 0.4586 - accuracy: 0.4855 - val_loss: 0.6931 - val_accuracy: 0.5956\n",
      "Epoch 18/25\n",
      "98/98 [==============================] - 30s 302ms/step - loss: 0.4586 - accuracy: 0.4829 - val_loss: 0.6931 - val_accuracy: 0.5792\n",
      "Epoch 19/25\n",
      "98/98 [==============================] - 31s 313ms/step - loss: 0.4586 - accuracy: 0.4804 - val_loss: 0.6931 - val_accuracy: 0.4402\n",
      "Epoch 20/25\n",
      "98/98 [==============================] - 32s 323ms/step - loss: 0.4586 - accuracy: 0.4739 - val_loss: 0.6931 - val_accuracy: 0.4373\n",
      "Epoch 21/25\n",
      "98/98 [==============================] - 30s 312ms/step - loss: 0.4586 - accuracy: 0.4736 - val_loss: 0.6931 - val_accuracy: 0.4257\n"
     ]
    },
    {
     "data": {
      "image/png": "[encoded data removed]",
      "text/plain": [
       "<Figure size 432x288 with 1 Axes>"
      ]
     },
     "metadata": {
      "needs_background": "light"
     },
     "output_type": "display_data"
    }
   ],
   "source": [
    "net_cnn = build_cnn()\n",
    "train(net_cnn, 'cnn_for_5H.h5')\n",
    "\n",
    "# earlystoping\n",
    "# model checkpoint"
   ]
  },
  {
   "cell_type": "code",
   "execution_count": null,
   "metadata": {},
   "outputs": [
    {
     "name": "stderr",
     "output_type": "stream",
     "text": [
      "2022-02-14 11:36:42.991288: I tensorflow/core/grappler/optimizers/custom_graph_optimizer_registry.cc:112] Plugin optimizer for device_type GPU is enabled.\n"
     ]
    }
   ],
   "source": [
    "test('cnn_for_5H_trial1.h5')"
   ]
  },
  {
   "cell_type": "code",
   "execution_count": null,
   "metadata": {},
   "outputs": [],
   "source": []
  }
 ],
 "metadata": {
  "kernelspec": {
   "display_name": "Python 3 (ipykernel)",
   "language": "python",
   "name": "python3"
  },
  "language_info": {
   "codemirror_mode": {
    "name": "ipython",
    "version": 3
   },
   "file_extension": ".py",
   "mimetype": "text/x-python",
   "name": "python",
   "nbconvert_exporter": "python",
   "pygments_lexer": "ipython3",
   "version": "3.9.10"
  }
 },
 "nbformat": 4,
 "nbformat_minor": 2
}
