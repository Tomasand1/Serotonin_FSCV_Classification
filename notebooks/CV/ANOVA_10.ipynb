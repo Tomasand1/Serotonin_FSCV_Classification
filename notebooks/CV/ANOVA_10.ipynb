{
 "cells": [
  {
   "cell_type": "code",
   "execution_count": 2,
   "id": "db55daec-48fb-4d7b-889b-4398929e54e8",
   "metadata": {},
   "outputs": [],
   "source": [
    "import pandas as pd\n",
    "import matplotlib.pyplot as plt\n",
    "import seaborn as sns\n",
    "import pingouin as pg\n",
    "import numpy as np\n",
    "import scipy \n",
    "import warnings\n",
    "warnings.filterwarnings('ignore')"
   ]
  },
  {
   "cell_type": "code",
   "execution_count": 8,
   "id": "71524265-4e0e-4c6c-baae-30bf4b9bf545",
   "metadata": {},
   "outputs": [
    {
     "data": {
      "text/plain": [
       "False    358\n",
       "True      14\n",
       "Name: Data, dtype: int64"
      ]
     },
     "execution_count": 8,
     "metadata": {},
     "output_type": "execute_result"
    }
   ],
   "source": [
    "df = pd.read_excel('comparison_data_10s1.xlsx', sheet_name = 'ANOVA')\n",
    "\n",
    "res = pg.mixed_anova(dv='Data', within='G1', between = 'G2', subject = 'Subject', data=df)\n",
    "\n",
    "\n",
    "(df[\"Data\"] > 0.5).value_counts()\n",
    "\n",
    "96\n",
    "\n",
    "4"
   ]
  },
  {
   "cell_type": "code",
   "execution_count": 11,
   "id": "ae773d4c-6423-4479-8045-cb6e8d9cef09",
   "metadata": {},
   "outputs": [
    {
     "data": {
      "text/html": [
       "<div>\n",
       "<style scoped>\n",
       "    .dataframe tbody tr th:only-of-type {\n",
       "        vertical-align: middle;\n",
       "    }\n",
       "\n",
       "    .dataframe tbody tr th {\n",
       "        vertical-align: top;\n",
       "    }\n",
       "\n",
       "    .dataframe thead th {\n",
       "        text-align: right;\n",
       "    }\n",
       "</style>\n",
       "<table border=\"1\" class=\"dataframe\">\n",
       "  <thead>\n",
       "    <tr style=\"text-align: right;\">\n",
       "      <th></th>\n",
       "      <th>Source</th>\n",
       "      <th>SS</th>\n",
       "      <th>DF1</th>\n",
       "      <th>DF2</th>\n",
       "      <th>MS</th>\n",
       "      <th>F</th>\n",
       "      <th>p-unc</th>\n",
       "      <th>np2</th>\n",
       "      <th>eps</th>\n",
       "    </tr>\n",
       "  </thead>\n",
       "  <tbody>\n",
       "    <tr>\n",
       "      <th>0</th>\n",
       "      <td>G2</td>\n",
       "      <td>0.005829</td>\n",
       "      <td>3</td>\n",
       "      <td>6</td>\n",
       "      <td>0.001943</td>\n",
       "      <td>0.710242</td>\n",
       "      <td>0.580378</td>\n",
       "      <td>0.262058</td>\n",
       "      <td>NaN</td>\n",
       "    </tr>\n",
       "    <tr>\n",
       "      <th>1</th>\n",
       "      <td>G1</td>\n",
       "      <td>0.000122</td>\n",
       "      <td>1</td>\n",
       "      <td>6</td>\n",
       "      <td>0.000122</td>\n",
       "      <td>0.079295</td>\n",
       "      <td>0.787715</td>\n",
       "      <td>0.013043</td>\n",
       "      <td>1.0</td>\n",
       "    </tr>\n",
       "    <tr>\n",
       "      <th>2</th>\n",
       "      <td>Interaction</td>\n",
       "      <td>0.004724</td>\n",
       "      <td>3</td>\n",
       "      <td>6</td>\n",
       "      <td>0.001575</td>\n",
       "      <td>1.023690</td>\n",
       "      <td>0.445964</td>\n",
       "      <td>0.338557</td>\n",
       "      <td>NaN</td>\n",
       "    </tr>\n",
       "  </tbody>\n",
       "</table>\n",
       "</div>"
      ],
      "text/plain": [
       "        Source        SS  DF1  DF2        MS         F     p-unc       np2  \\\n",
       "0           G2  0.005829    3    6  0.001943  0.710242  0.580378  0.262058   \n",
       "1           G1  0.000122    1    6  0.000122  0.079295  0.787715  0.013043   \n",
       "2  Interaction  0.004724    3    6  0.001575  1.023690  0.445964  0.338557   \n",
       "\n",
       "   eps  \n",
       "0  NaN  \n",
       "1  1.0  \n",
       "2  NaN  "
      ]
     },
     "execution_count": 11,
     "metadata": {},
     "output_type": "execute_result"
    }
   ],
   "source": [
    "res"
   ]
  },
  {
   "cell_type": "code",
   "execution_count": 12,
   "id": "7e241b39",
   "metadata": {},
   "outputs": [],
   "source": [
    "post_hocs_wf = pg.pairwise_tests(dv='Data', within = 'G1', subject='Subject', data=df, within_first = False)\n",
    "post_hocs_bf = pg.pairwise_tests(dv='Data', between = 'G2', subject='Subject', data=df, within_first = False)"
   ]
  },
  {
   "cell_type": "code",
   "execution_count": 13,
   "id": "04ccd169",
   "metadata": {},
   "outputs": [
    {
     "data": {
      "text/html": [
       "<div>\n",
       "<style scoped>\n",
       "    .dataframe tbody tr th:only-of-type {\n",
       "        vertical-align: middle;\n",
       "    }\n",
       "\n",
       "    .dataframe tbody tr th {\n",
       "        vertical-align: top;\n",
       "    }\n",
       "\n",
       "    .dataframe thead th {\n",
       "        text-align: right;\n",
       "    }\n",
       "</style>\n",
       "<table border=\"1\" class=\"dataframe\">\n",
       "  <thead>\n",
       "    <tr style=\"text-align: right;\">\n",
       "      <th></th>\n",
       "      <th>Contrast</th>\n",
       "      <th>A</th>\n",
       "      <th>B</th>\n",
       "      <th>Paired</th>\n",
       "      <th>Parametric</th>\n",
       "      <th>T</th>\n",
       "      <th>dof</th>\n",
       "      <th>alternative</th>\n",
       "      <th>p-unc</th>\n",
       "      <th>BF10</th>\n",
       "      <th>hedges</th>\n",
       "    </tr>\n",
       "  </thead>\n",
       "  <tbody>\n",
       "    <tr>\n",
       "      <th>0</th>\n",
       "      <td>G2</td>\n",
       "      <td>Control</td>\n",
       "      <td>Escit</td>\n",
       "      <td>False</td>\n",
       "      <td>True</td>\n",
       "      <td>0.973426</td>\n",
       "      <td>58.046389</td>\n",
       "      <td>two-sided</td>\n",
       "      <td>0.334381</td>\n",
       "      <td>0.301</td>\n",
       "      <td>0.164989</td>\n",
       "    </tr>\n",
       "    <tr>\n",
       "      <th>1</th>\n",
       "      <td>G2</td>\n",
       "      <td>Control</td>\n",
       "      <td>Mirt</td>\n",
       "      <td>False</td>\n",
       "      <td>True</td>\n",
       "      <td>-1.493575</td>\n",
       "      <td>255.956731</td>\n",
       "      <td>two-sided</td>\n",
       "      <td>0.136518</td>\n",
       "      <td>0.368</td>\n",
       "      <td>-0.174459</td>\n",
       "    </tr>\n",
       "    <tr>\n",
       "      <th>2</th>\n",
       "      <td>G2</td>\n",
       "      <td>Control</td>\n",
       "      <td>Tryp</td>\n",
       "      <td>False</td>\n",
       "      <td>True</td>\n",
       "      <td>-0.572766</td>\n",
       "      <td>54.797069</td>\n",
       "      <td>two-sided</td>\n",
       "      <td>0.569146</td>\n",
       "      <td>0.228</td>\n",
       "      <td>-0.101509</td>\n",
       "    </tr>\n",
       "    <tr>\n",
       "      <th>3</th>\n",
       "      <td>G2</td>\n",
       "      <td>Escit</td>\n",
       "      <td>Mirt</td>\n",
       "      <td>False</td>\n",
       "      <td>True</td>\n",
       "      <td>-1.998225</td>\n",
       "      <td>86.069088</td>\n",
       "      <td>two-sided</td>\n",
       "      <td>0.048849</td>\n",
       "      <td>1.183</td>\n",
       "      <td>-0.282194</td>\n",
       "    </tr>\n",
       "    <tr>\n",
       "      <th>4</th>\n",
       "      <td>G2</td>\n",
       "      <td>Escit</td>\n",
       "      <td>Tryp</td>\n",
       "      <td>False</td>\n",
       "      <td>True</td>\n",
       "      <td>-1.227260</td>\n",
       "      <td>70.000000</td>\n",
       "      <td>two-sided</td>\n",
       "      <td>0.223836</td>\n",
       "      <td>0.463</td>\n",
       "      <td>-0.286158</td>\n",
       "    </tr>\n",
       "    <tr>\n",
       "      <th>5</th>\n",
       "      <td>G2</td>\n",
       "      <td>Mirt</td>\n",
       "      <td>Tryp</td>\n",
       "      <td>False</td>\n",
       "      <td>True</td>\n",
       "      <td>0.568611</td>\n",
       "      <td>79.126596</td>\n",
       "      <td>two-sided</td>\n",
       "      <td>0.571230</td>\n",
       "      <td>0.229</td>\n",
       "      <td>0.083413</td>\n",
       "    </tr>\n",
       "  </tbody>\n",
       "</table>\n",
       "</div>"
      ],
      "text/plain": [
       "  Contrast        A      B  Paired  Parametric         T         dof  \\\n",
       "0       G2  Control  Escit   False        True  0.973426   58.046389   \n",
       "1       G2  Control   Mirt   False        True -1.493575  255.956731   \n",
       "2       G2  Control   Tryp   False        True -0.572766   54.797069   \n",
       "3       G2    Escit   Mirt   False        True -1.998225   86.069088   \n",
       "4       G2    Escit   Tryp   False        True -1.227260   70.000000   \n",
       "5       G2     Mirt   Tryp   False        True  0.568611   79.126596   \n",
       "\n",
       "  alternative     p-unc   BF10    hedges  \n",
       "0   two-sided  0.334381  0.301  0.164989  \n",
       "1   two-sided  0.136518  0.368 -0.174459  \n",
       "2   two-sided  0.569146  0.228 -0.101509  \n",
       "3   two-sided  0.048849  1.183 -0.282194  \n",
       "4   two-sided  0.223836  0.463 -0.286158  \n",
       "5   two-sided  0.571230  0.229  0.083413  "
      ]
     },
     "execution_count": 13,
     "metadata": {},
     "output_type": "execute_result"
    }
   ],
   "source": [
    "post_hocs_bf"
   ]
  },
  {
   "cell_type": "code",
   "execution_count": 14,
   "id": "e280b8b9",
   "metadata": {},
   "outputs": [
    {
     "data": {
      "text/html": [
       "<div>\n",
       "<style scoped>\n",
       "    .dataframe tbody tr th:only-of-type {\n",
       "        vertical-align: middle;\n",
       "    }\n",
       "\n",
       "    .dataframe tbody tr th {\n",
       "        vertical-align: top;\n",
       "    }\n",
       "\n",
       "    .dataframe thead th {\n",
       "        text-align: right;\n",
       "    }\n",
       "</style>\n",
       "<table border=\"1\" class=\"dataframe\">\n",
       "  <thead>\n",
       "    <tr style=\"text-align: right;\">\n",
       "      <th></th>\n",
       "      <th>Contrast</th>\n",
       "      <th>A</th>\n",
       "      <th>B</th>\n",
       "      <th>Paired</th>\n",
       "      <th>Parametric</th>\n",
       "      <th>T</th>\n",
       "      <th>dof</th>\n",
       "      <th>alternative</th>\n",
       "      <th>p-unc</th>\n",
       "      <th>BF10</th>\n",
       "      <th>hedges</th>\n",
       "    </tr>\n",
       "  </thead>\n",
       "  <tbody>\n",
       "    <tr>\n",
       "      <th>0</th>\n",
       "      <td>G1</td>\n",
       "      <td>Post</td>\n",
       "      <td>Pre</td>\n",
       "      <td>True</td>\n",
       "      <td>True</td>\n",
       "      <td>0.280488</td>\n",
       "      <td>9.0</td>\n",
       "      <td>two-sided</td>\n",
       "      <td>0.785444</td>\n",
       "      <td>0.319</td>\n",
       "      <td>0.105489</td>\n",
       "    </tr>\n",
       "  </tbody>\n",
       "</table>\n",
       "</div>"
      ],
      "text/plain": [
       "  Contrast     A    B  Paired  Parametric         T  dof alternative  \\\n",
       "0       G1  Post  Pre    True        True  0.280488  9.0   two-sided   \n",
       "\n",
       "      p-unc   BF10    hedges  \n",
       "0  0.785444  0.319  0.105489  "
      ]
     },
     "execution_count": 14,
     "metadata": {},
     "output_type": "execute_result"
    }
   ],
   "source": [
    "post_hocs_wf"
   ]
  },
  {
   "cell_type": "code",
   "execution_count": 18,
   "id": "a41d3b73",
   "metadata": {},
   "outputs": [
    {
     "data": {
      "text/plain": [
       "(array([False, False, False, False, False, False, False]),\n",
       " array([1.        , 1.        , 0.8191106 , 1.        , 0.34194395,\n",
       "        1.        , 1.        ]))"
      ]
     },
     "execution_count": 18,
     "metadata": {},
     "output_type": "execute_result"
    }
   ],
   "source": [
    "p_arr = np.append(post_hocs_wf[\"p-unc\"].to_numpy(), post_hocs_bf[\"p-unc\"].to_numpy())\n",
    "m_c = pg.multicomp(p_arr)\n",
    "m_c"
   ]
  },
  {
   "cell_type": "code",
   "execution_count": 23,
   "id": "9b2201f5-f5ca-4319-9c26-eadd14c724e5",
   "metadata": {},
   "outputs": [
    {
     "name": "stdout",
     "output_type": "stream",
     "text": [
      "Data    0.07438\n",
      "dtype: float64\n",
      "Data    0.156392\n",
      "dtype: float64\n"
     ]
    }
   ],
   "source": [
    "print(df[(df['G1'] == 'Pre')].mean())\n",
    "print(df[(df['G1'] == 'Pre')].std())"
   ]
  },
  {
   "cell_type": "code",
   "execution_count": 24,
   "id": "ed788fd8",
   "metadata": {},
   "outputs": [
    {
     "name": "stdout",
     "output_type": "stream",
     "text": [
      "Data    0.078621\n",
      "dtype: float64\n",
      "Data    0.170462\n",
      "dtype: float64\n"
     ]
    }
   ],
   "source": [
    "print(df[(df['G1'] == 'Post')].mean())\n",
    "print(df[(df['G1'] == 'Post')].std())"
   ]
  },
  {
   "cell_type": "code",
   "execution_count": 25,
   "id": "3fa1d63d-39f7-4ce1-a8cb-8738322d06bf",
   "metadata": {},
   "outputs": [
    {
     "name": "stdout",
     "output_type": "stream",
     "text": [
      "Data    0.065798\n",
      "dtype: float64\n",
      "Data    0.140448\n",
      "dtype: float64\n"
     ]
    }
   ],
   "source": [
    "print(df[(df['G2'] == 'Control')].mean())\n",
    "print(df[(df['G2'] == 'Control')].std())"
   ]
  },
  {
   "cell_type": "code",
   "execution_count": 26,
   "id": "f89344bf-1b72-450e-b03b-838afd158f52",
   "metadata": {},
   "outputs": [
    {
     "name": "stdout",
     "output_type": "stream",
     "text": [
      "Data    0.043038\n",
      "dtype: float64\n",
      "Data    0.122994\n",
      "dtype: float64\n"
     ]
    }
   ],
   "source": [
    "print(df[(df['G2'] == 'Escit')].mean())\n",
    "print(df[(df['G2'] == 'Escit')].std())"
   ]
  },
  {
   "cell_type": "code",
   "execution_count": 27,
   "id": "0f10137a",
   "metadata": {},
   "outputs": [
    {
     "name": "stdout",
     "output_type": "stream",
     "text": [
      "Data    0.095597\n",
      "dtype: float64\n",
      "Data    0.19777\n",
      "dtype: float64\n"
     ]
    }
   ],
   "source": [
    "print(df[(df['G2'] == 'Mirt')].mean())\n",
    "print(df[(df['G2'] == 'Mirt')].std())"
   ]
  },
  {
   "cell_type": "code",
   "execution_count": 28,
   "id": "6a3503cd",
   "metadata": {},
   "outputs": [
    {
     "name": "stdout",
     "output_type": "stream",
     "text": [
      "Data    0.079958\n",
      "dtype: float64\n",
      "Data    0.132108\n",
      "dtype: float64\n"
     ]
    }
   ],
   "source": [
    "print(df[(df['G2'] == 'Tryp')].mean())\n",
    "print(df[(df['G2'] == 'Tryp')].std())"
   ]
  },
  {
   "cell_type": "code",
   "execution_count": 36,
   "id": "f99e3eda-333d-46ea-8f91-3065f1b0369c",
   "metadata": {},
   "outputs": [
    {
     "name": "stdout",
     "output_type": "stream",
     "text": [
      "Data    0.009331\n",
      "dtype: float64\n",
      "Data    0.015603\n",
      "dtype: float64\n"
     ]
    }
   ],
   "source": [
    "print(df[(df['G2'] == 'Escit') & (df['G1'] == 'Post')].mean())\n",
    "print(df[(df['G2'] == 'Escit') & (df['G1'] == 'Post')].std())"
   ]
  },
  {
   "cell_type": "code",
   "execution_count": 37,
   "id": "4ed48d0e-5034-4584-acae-109791802c10",
   "metadata": {},
   "outputs": [
    {
     "name": "stdout",
     "output_type": "stream",
     "text": [
      "Data    0.088817\n",
      "dtype: float64\n",
      "Data    0.13382\n",
      "dtype: float64\n"
     ]
    }
   ],
   "source": [
    "print(df[(df['G2'] == 'Tryp') & (df['G1'] == 'Pre')].mean())\n",
    "print(df[(df['G2'] == 'Tryp') & (df['G1'] == 'Pre')].std())"
   ]
  },
  {
   "cell_type": "code",
   "execution_count": 38,
   "id": "3e62e46b-5c8f-4bff-9c8d-b8c48dfa0d8d",
   "metadata": {},
   "outputs": [
    {
     "name": "stdout",
     "output_type": "stream",
     "text": [
      "Data    0.0711\n",
      "dtype: float64\n",
      "Data    0.133634\n",
      "dtype: float64\n"
     ]
    }
   ],
   "source": [
    "print(df[(df['G2'] == 'Tryp') & (df['G1'] == 'Post')].mean())\n",
    "print(df[(df['G2'] == 'Tryp') & (df['G1'] == 'Post')].std())"
   ]
  },
  {
   "cell_type": "code",
   "execution_count": 39,
   "id": "b4559efa-416f-4d2f-b214-05cb3f2c7a9b",
   "metadata": {},
   "outputs": [
    {
     "name": "stdout",
     "output_type": "stream",
     "text": [
      "Data    0.096153\n",
      "dtype: float64\n",
      "Data    0.20646\n",
      "dtype: float64\n"
     ]
    }
   ],
   "source": [
    "print(df[(df['G2'] == 'Mirt') & (df['G1'] == 'Pre')].mean())\n",
    "print(df[(df['G2'] == 'Mirt') & (df['G1'] == 'Pre')].std())"
   ]
  },
  {
   "cell_type": "code",
   "execution_count": 40,
   "id": "078a1fda-673e-42e4-9c49-cf2ec83b3e37",
   "metadata": {},
   "outputs": [
    {
     "name": "stdout",
     "output_type": "stream",
     "text": [
      "Data    0.095041\n",
      "dtype: float64\n",
      "Data    0.190132\n",
      "dtype: float64\n"
     ]
    }
   ],
   "source": [
    "print(df[(df['G2'] == 'Mirt') & (df['G1'] == 'Post')].mean())\n",
    "print(df[(df['G2'] == 'Mirt') & (df['G1'] == 'Post')].std())"
   ]
  },
  {
   "cell_type": "code",
   "execution_count": null,
   "id": "36941dae",
   "metadata": {},
   "outputs": [],
   "source": []
  },
  {
   "cell_type": "code",
   "execution_count": null,
   "id": "78839f3b",
   "metadata": {},
   "outputs": [],
   "source": []
  },
  {
   "cell_type": "code",
   "execution_count": null,
   "id": "91daed0c",
   "metadata": {},
   "outputs": [],
   "source": []
  }
 ],
 "metadata": {
  "kernelspec": {
   "display_name": "Python 3 (ipykernel)",
   "language": "python",
   "name": "python3"
  },
  "language_info": {
   "codemirror_mode": {
    "name": "ipython",
    "version": 3
   },
   "file_extension": ".py",
   "mimetype": "text/x-python",
   "name": "python",
   "nbconvert_exporter": "python",
   "pygments_lexer": "ipython3",
   "version": "3.9.10"
  }
 },
 "nbformat": 4,
 "nbformat_minor": 5
}
