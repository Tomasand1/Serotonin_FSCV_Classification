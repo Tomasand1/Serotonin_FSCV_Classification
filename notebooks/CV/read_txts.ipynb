{
 "cells": [
  {
   "cell_type": "code",
   "execution_count": 13,
   "metadata": {
    "tags": []
   },
   "outputs": [],
   "source": [
    "import numpy as np \n",
    "import pandas as pd \n",
    "import scipy.ndimage\n",
    "import os\n",
    "from scipy.signal import butter, filtfilt\n",
    "def butter_highpass(cutoff, fs, order=5):\n",
    "    nyq = 0.5 * fs\n",
    "    normal_cutoff = cutoff / nyq\n",
    "    b, a = butter(order, normal_cutoff, btype='high', analog=False)\n",
    "    return b, a\n",
    "\n",
    "def butter_highpass_filter(data, cutoff, fs, order=5):\n",
    "    b, a = butter_highpass(cutoff, fs, order=order)\n",
    "    y = filtfilt(b, a, data)\n",
    "    return y"
   ]
  },
  {
   "cell_type": "code",
   "execution_count": 16,
   "metadata": {},
   "outputs": [],
   "source": [
    "directory =  r\"C:\\Users\\sergi\\OneDrive - Imperial College London\\Files\\Code Files\\Dopamine CNN detection dataset\\5HT_DATASET\\Comparison Dataset/Colorplots\"\n",
    "all_files = os.listdir(directory)   # imagine you're one directory above test dir\n",
    "txt_files = list(filter(lambda x: x[-4:] == '.txt', all_files))\n",
    "CVs = []\n",
    "for file in txt_files: \n",
    "    matrix = open(directory+\"/\"+file).read()\n",
    "    matrix = np.array([item.split() for item in matrix.split('\\n')[:-1]]).astype('float32')\n",
    "    #Normalize the size of the matrix to 200x600.\n",
    "    matrix = scipy.ndimage.zoom(matrix, [200/matrix.shape[0], 1])\n",
    "    for i in range(0, matrix.shape[0]): \n",
    "        matrix[i] = butter_highpass_filter(matrix[i], 0.05, 10, order=5)\n",
    "        \n",
    "    matrixes_5s = np.hsplit(matrix, matrix.shape[1]/1)\n",
    "    counter = 0\n",
    "    for c in matrixes_5s:\n",
    "        np.savetxt(file.split(\".\")[0]+'-n'+str(counter)+'.txt', c, delimiter=\"\\t\")\n",
    "        counter = counter + 1"
   ]
  }
 ],
 "metadata": {
  "kernelspec": {
   "display_name": "Python 3 (ipykernel)",
   "language": "python",
   "name": "python3"
  },
  "language_info": {
   "codemirror_mode": {
    "name": "ipython",
    "version": 3
   },
   "file_extension": ".py",
   "mimetype": "text/x-python",
   "name": "python",
   "nbconvert_exporter": "python",
   "pygments_lexer": "ipython3",
   "version": "3.9.10"
  }
 },
 "nbformat": 4,
 "nbformat_minor": 4
}
