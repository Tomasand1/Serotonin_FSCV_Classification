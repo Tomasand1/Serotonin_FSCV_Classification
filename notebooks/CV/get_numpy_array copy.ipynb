{
 "cells": [
  {
   "cell_type": "code",
   "execution_count": 1,
   "id": "2c0ab6eb",
   "metadata": {},
   "outputs": [],
   "source": [
    "#Read colorplots of 10 seconds.\n",
    "import numpy as np \n",
    "import pandas as pd\n",
    "import os\n",
    "from natsort import natsorted\n",
    "directory =  \"/Users/tomas/Documents/Projects/MScProjectImperial/SerotoninLevelDetection/data/external/comparison_dataset/5s\"\n",
    "all_files = os.listdir(directory)   # imagine you're one directory above test dir\n",
    "txt_files = natsorted(list(filter(lambda x: x[-4:] == '.txt', all_files)))\n",
    "CVs = []\n",
    "for file in txt_files: \n",
    "    matrix = open(directory+\"/\"+file).read()\n",
    "    matrix = np.array([item.split() for item in matrix.split('\\n')[:-1]]).astype('float32')\n",
    "    CVs.append(matrix)\n",
    "CVs = np.array(CVs)\n",
    "np.savez_compressed('data5sec_comp.npz', a=np.array(CVs))"
   ]
  },
  {
   "cell_type": "code",
   "execution_count": 2,
   "id": "0c993a40",
   "metadata": {},
   "outputs": [],
   "source": []
  },
  {
   "cell_type": "code",
   "execution_count": null,
   "id": "f46fdb46-08a4-46b7-840c-b606e53214c7",
   "metadata": {},
   "outputs": [],
   "source": []
  }
 ],
 "metadata": {
  "kernelspec": {
   "display_name": "Python 3 (ipykernel)",
   "language": "python",
   "name": "python3"
  },
  "language_info": {
   "codemirror_mode": {
    "name": "ipython",
    "version": 3
   },
   "file_extension": ".py",
   "mimetype": "text/x-python",
   "name": "python",
   "nbconvert_exporter": "python",
   "pygments_lexer": "ipython3",
   "version": "3.9.10"
  }
 },
 "nbformat": 4,
 "nbformat_minor": 5
}
