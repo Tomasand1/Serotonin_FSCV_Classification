{
 "cells": [
  {
   "cell_type": "code",
   "execution_count": 4,
   "id": "db55daec-48fb-4d7b-889b-4398929e54e8",
   "metadata": {},
   "outputs": [],
   "source": [
    "import pandas as pd\n",
    "import matplotlib.pyplot as plt\n",
    "import seaborn as sns\n",
    "import pingouin as pg\n",
    "import scipy \n",
    "import numpy as np\n",
    "import string\n",
    "import numpy as np\n",
    "import warnings\n",
    "warnings.filterwarnings('ignore')"
   ]
  },
  {
   "cell_type": "code",
   "execution_count": 5,
   "id": "71524265-4e0e-4c6c-baae-30bf4b9bf545",
   "metadata": {},
   "outputs": [
    {
     "name": "stdout",
     "output_type": "stream",
     "text": [
      "['control' 'escit' 'mirt' 'tryp']\n",
      "5952\n"
     ]
    },
    {
     "data": {
      "text/plain": [
       "0    429\n",
       "2    163\n",
       "1    152\n",
       "Name: Labels, dtype: int64"
      ]
     },
     "execution_count": 5,
     "metadata": {},
     "output_type": "execute_result"
    }
   ],
   "source": [
    "df = pd.read_excel('./comparison_data_5s.xlsx')\n",
    "df[\"G1\"] = df[\"G1\"].str.strip(string.digits)\n",
    "df[\"G2\"] = df[\"G2\"].str.strip(string.digits)\n",
    "# df = df[df[\"G2\"] != \"escit\"]\n",
    "# df = df[df[\"G2\"] != \"tryp\"]\n",
    "print(np.unique(df[\"G2\"]))\n",
    "print(df.size)\n",
    "# label_0 = pg.mixed_anova(dv='Data1', within='G1', between = 'G2', subject = 'Subject', data=df)\n",
    "label_1 = pg.mixed_anova(dv='Data2', within='G1', between = 'G2', subject = 'Subject', data=df)\n",
    "label_2 = pg.mixed_anova(dv='Data3', within='G1', between = 'G2', subject = 'Subject', data=df)\n",
    "\n",
    "\n",
    "\n",
    "(df[\"Labels\"]).value_counts()\n"
   ]
  },
  {
   "cell_type": "code",
   "execution_count": 6,
   "id": "a73bcb1d-decb-4a1a-ade5-7636b65c64e3",
   "metadata": {},
   "outputs": [
    {
     "data": {
      "text/html": [
       "<div>\n",
       "<style scoped>\n",
       "    .dataframe tbody tr th:only-of-type {\n",
       "        vertical-align: middle;\n",
       "    }\n",
       "\n",
       "    .dataframe tbody tr th {\n",
       "        vertical-align: top;\n",
       "    }\n",
       "\n",
       "    .dataframe thead th {\n",
       "        text-align: right;\n",
       "    }\n",
       "</style>\n",
       "<table border=\"1\" class=\"dataframe\">\n",
       "  <thead>\n",
       "    <tr style=\"text-align: right;\">\n",
       "      <th></th>\n",
       "      <th>G1</th>\n",
       "      <th>G2</th>\n",
       "      <th>Subject</th>\n",
       "      <th>No</th>\n",
       "      <th>Data1</th>\n",
       "      <th>Data2</th>\n",
       "      <th>Data3</th>\n",
       "      <th>Labels</th>\n",
       "    </tr>\n",
       "  </thead>\n",
       "  <tbody>\n",
       "    <tr>\n",
       "      <th>0</th>\n",
       "      <td>post</td>\n",
       "      <td>control</td>\n",
       "      <td>dish1</td>\n",
       "      <td>n0</td>\n",
       "      <td>0.895670</td>\n",
       "      <td>0.066421</td>\n",
       "      <td>0.037909</td>\n",
       "      <td>0</td>\n",
       "    </tr>\n",
       "    <tr>\n",
       "      <th>1</th>\n",
       "      <td>post</td>\n",
       "      <td>control</td>\n",
       "      <td>dish1</td>\n",
       "      <td>n1</td>\n",
       "      <td>0.725595</td>\n",
       "      <td>0.140567</td>\n",
       "      <td>0.133838</td>\n",
       "      <td>0</td>\n",
       "    </tr>\n",
       "    <tr>\n",
       "      <th>2</th>\n",
       "      <td>post</td>\n",
       "      <td>control</td>\n",
       "      <td>dish1</td>\n",
       "      <td>n2</td>\n",
       "      <td>0.560608</td>\n",
       "      <td>0.099550</td>\n",
       "      <td>0.339842</td>\n",
       "      <td>0</td>\n",
       "    </tr>\n",
       "    <tr>\n",
       "      <th>3</th>\n",
       "      <td>post</td>\n",
       "      <td>control</td>\n",
       "      <td>dish1</td>\n",
       "      <td>n3</td>\n",
       "      <td>0.595494</td>\n",
       "      <td>0.377833</td>\n",
       "      <td>0.026673</td>\n",
       "      <td>0</td>\n",
       "    </tr>\n",
       "    <tr>\n",
       "      <th>4</th>\n",
       "      <td>post</td>\n",
       "      <td>control</td>\n",
       "      <td>dish1</td>\n",
       "      <td>n4</td>\n",
       "      <td>0.212893</td>\n",
       "      <td>0.052990</td>\n",
       "      <td>0.734117</td>\n",
       "      <td>2</td>\n",
       "    </tr>\n",
       "    <tr>\n",
       "      <th>...</th>\n",
       "      <td>...</td>\n",
       "      <td>...</td>\n",
       "      <td>...</td>\n",
       "      <td>...</td>\n",
       "      <td>...</td>\n",
       "      <td>...</td>\n",
       "      <td>...</td>\n",
       "      <td>...</td>\n",
       "    </tr>\n",
       "    <tr>\n",
       "      <th>739</th>\n",
       "      <td>pre</td>\n",
       "      <td>control</td>\n",
       "      <td>dish1</td>\n",
       "      <td>n7</td>\n",
       "      <td>0.835324</td>\n",
       "      <td>0.057724</td>\n",
       "      <td>0.106952</td>\n",
       "      <td>0</td>\n",
       "    </tr>\n",
       "    <tr>\n",
       "      <th>740</th>\n",
       "      <td>pre</td>\n",
       "      <td>control</td>\n",
       "      <td>dish1</td>\n",
       "      <td>n8</td>\n",
       "      <td>0.207653</td>\n",
       "      <td>0.088188</td>\n",
       "      <td>0.704159</td>\n",
       "      <td>2</td>\n",
       "    </tr>\n",
       "    <tr>\n",
       "      <th>741</th>\n",
       "      <td>pre</td>\n",
       "      <td>control</td>\n",
       "      <td>dish1</td>\n",
       "      <td>n9</td>\n",
       "      <td>0.168536</td>\n",
       "      <td>0.806918</td>\n",
       "      <td>0.024546</td>\n",
       "      <td>1</td>\n",
       "    </tr>\n",
       "    <tr>\n",
       "      <th>742</th>\n",
       "      <td>pre</td>\n",
       "      <td>control</td>\n",
       "      <td>dish1</td>\n",
       "      <td>n10</td>\n",
       "      <td>0.464142</td>\n",
       "      <td>0.022148</td>\n",
       "      <td>0.513710</td>\n",
       "      <td>2</td>\n",
       "    </tr>\n",
       "    <tr>\n",
       "      <th>743</th>\n",
       "      <td>pre</td>\n",
       "      <td>control</td>\n",
       "      <td>dish1</td>\n",
       "      <td>n11</td>\n",
       "      <td>0.552081</td>\n",
       "      <td>0.255366</td>\n",
       "      <td>0.192554</td>\n",
       "      <td>0</td>\n",
       "    </tr>\n",
       "  </tbody>\n",
       "</table>\n",
       "<p>744 rows × 8 columns</p>\n",
       "</div>"
      ],
      "text/plain": [
       "       G1       G2 Subject   No     Data1     Data2     Data3  Labels\n",
       "0    post  control   dish1   n0  0.895670  0.066421  0.037909       0\n",
       "1    post  control   dish1   n1  0.725595  0.140567  0.133838       0\n",
       "2    post  control   dish1   n2  0.560608  0.099550  0.339842       0\n",
       "3    post  control   dish1   n3  0.595494  0.377833  0.026673       0\n",
       "4    post  control   dish1   n4  0.212893  0.052990  0.734117       2\n",
       "..    ...      ...     ...  ...       ...       ...       ...     ...\n",
       "739   pre  control   dish1   n7  0.835324  0.057724  0.106952       0\n",
       "740   pre  control   dish1   n8  0.207653  0.088188  0.704159       2\n",
       "741   pre  control   dish1   n9  0.168536  0.806918  0.024546       1\n",
       "742   pre  control   dish1  n10  0.464142  0.022148  0.513710       2\n",
       "743   pre  control   dish1  n11  0.552081  0.255366  0.192554       0\n",
       "\n",
       "[744 rows x 8 columns]"
      ]
     },
     "execution_count": 6,
     "metadata": {},
     "output_type": "execute_result"
    }
   ],
   "source": [
    "df"
   ]
  },
  {
   "cell_type": "code",
   "execution_count": 7,
   "id": "dd9bd21c",
   "metadata": {},
   "outputs": [
    {
     "data": {
      "text/html": [
       "<div>\n",
       "<style scoped>\n",
       "    .dataframe tbody tr th:only-of-type {\n",
       "        vertical-align: middle;\n",
       "    }\n",
       "\n",
       "    .dataframe tbody tr th {\n",
       "        vertical-align: top;\n",
       "    }\n",
       "\n",
       "    .dataframe thead th {\n",
       "        text-align: right;\n",
       "    }\n",
       "</style>\n",
       "<table border=\"1\" class=\"dataframe\">\n",
       "  <thead>\n",
       "    <tr style=\"text-align: right;\">\n",
       "      <th></th>\n",
       "      <th>Source</th>\n",
       "      <th>SS</th>\n",
       "      <th>DF1</th>\n",
       "      <th>DF2</th>\n",
       "      <th>MS</th>\n",
       "      <th>F</th>\n",
       "      <th>p-unc</th>\n",
       "      <th>np2</th>\n",
       "      <th>eps</th>\n",
       "    </tr>\n",
       "  </thead>\n",
       "  <tbody>\n",
       "    <tr>\n",
       "      <th>0</th>\n",
       "      <td>G2</td>\n",
       "      <td>0.016401</td>\n",
       "      <td>3</td>\n",
       "      <td>6</td>\n",
       "      <td>0.005467</td>\n",
       "      <td>0.328382</td>\n",
       "      <td>0.805520</td>\n",
       "      <td>0.141034</td>\n",
       "      <td>NaN</td>\n",
       "    </tr>\n",
       "    <tr>\n",
       "      <th>1</th>\n",
       "      <td>G1</td>\n",
       "      <td>0.000282</td>\n",
       "      <td>1</td>\n",
       "      <td>6</td>\n",
       "      <td>0.000282</td>\n",
       "      <td>0.224128</td>\n",
       "      <td>0.652646</td>\n",
       "      <td>0.036010</td>\n",
       "      <td>1.0</td>\n",
       "    </tr>\n",
       "    <tr>\n",
       "      <th>2</th>\n",
       "      <td>Interaction</td>\n",
       "      <td>0.000394</td>\n",
       "      <td>3</td>\n",
       "      <td>6</td>\n",
       "      <td>0.000131</td>\n",
       "      <td>0.104529</td>\n",
       "      <td>0.954407</td>\n",
       "      <td>0.049669</td>\n",
       "      <td>NaN</td>\n",
       "    </tr>\n",
       "  </tbody>\n",
       "</table>\n",
       "</div>"
      ],
      "text/plain": [
       "        Source        SS  DF1  DF2        MS         F     p-unc       np2  \\\n",
       "0           G2  0.016401    3    6  0.005467  0.328382  0.805520  0.141034   \n",
       "1           G1  0.000282    1    6  0.000282  0.224128  0.652646  0.036010   \n",
       "2  Interaction  0.000394    3    6  0.000131  0.104529  0.954407  0.049669   \n",
       "\n",
       "   eps  \n",
       "0  NaN  \n",
       "1  1.0  \n",
       "2  NaN  "
      ]
     },
     "execution_count": 7,
     "metadata": {},
     "output_type": "execute_result"
    }
   ],
   "source": [
    "label_1"
   ]
  },
  {
   "cell_type": "code",
   "execution_count": 8,
   "id": "6af5ba3f",
   "metadata": {},
   "outputs": [
    {
     "data": {
      "text/html": [
       "<div>\n",
       "<style scoped>\n",
       "    .dataframe tbody tr th:only-of-type {\n",
       "        vertical-align: middle;\n",
       "    }\n",
       "\n",
       "    .dataframe tbody tr th {\n",
       "        vertical-align: top;\n",
       "    }\n",
       "\n",
       "    .dataframe thead th {\n",
       "        text-align: right;\n",
       "    }\n",
       "</style>\n",
       "<table border=\"1\" class=\"dataframe\">\n",
       "  <thead>\n",
       "    <tr style=\"text-align: right;\">\n",
       "      <th></th>\n",
       "      <th>Source</th>\n",
       "      <th>SS</th>\n",
       "      <th>DF1</th>\n",
       "      <th>DF2</th>\n",
       "      <th>MS</th>\n",
       "      <th>F</th>\n",
       "      <th>p-unc</th>\n",
       "      <th>np2</th>\n",
       "      <th>eps</th>\n",
       "    </tr>\n",
       "  </thead>\n",
       "  <tbody>\n",
       "    <tr>\n",
       "      <th>0</th>\n",
       "      <td>G2</td>\n",
       "      <td>0.011140</td>\n",
       "      <td>3</td>\n",
       "      <td>6</td>\n",
       "      <td>0.003713</td>\n",
       "      <td>0.291776</td>\n",
       "      <td>0.830239</td>\n",
       "      <td>0.127314</td>\n",
       "      <td>NaN</td>\n",
       "    </tr>\n",
       "    <tr>\n",
       "      <th>1</th>\n",
       "      <td>G1</td>\n",
       "      <td>0.008038</td>\n",
       "      <td>1</td>\n",
       "      <td>6</td>\n",
       "      <td>0.008038</td>\n",
       "      <td>2.538191</td>\n",
       "      <td>0.162230</td>\n",
       "      <td>0.297275</td>\n",
       "      <td>1.0</td>\n",
       "    </tr>\n",
       "    <tr>\n",
       "      <th>2</th>\n",
       "      <td>Interaction</td>\n",
       "      <td>0.003609</td>\n",
       "      <td>3</td>\n",
       "      <td>6</td>\n",
       "      <td>0.001203</td>\n",
       "      <td>0.379834</td>\n",
       "      <td>0.771419</td>\n",
       "      <td>0.159605</td>\n",
       "      <td>NaN</td>\n",
       "    </tr>\n",
       "  </tbody>\n",
       "</table>\n",
       "</div>"
      ],
      "text/plain": [
       "        Source        SS  DF1  DF2        MS         F     p-unc       np2  \\\n",
       "0           G2  0.011140    3    6  0.003713  0.291776  0.830239  0.127314   \n",
       "1           G1  0.008038    1    6  0.008038  2.538191  0.162230  0.297275   \n",
       "2  Interaction  0.003609    3    6  0.001203  0.379834  0.771419  0.159605   \n",
       "\n",
       "   eps  \n",
       "0  NaN  \n",
       "1  1.0  \n",
       "2  NaN  "
      ]
     },
     "execution_count": 8,
     "metadata": {},
     "output_type": "execute_result"
    }
   ],
   "source": [
    "label_2"
   ]
  },
  {
   "cell_type": "code",
   "execution_count": 9,
   "id": "fb25c32f",
   "metadata": {},
   "outputs": [],
   "source": [
    "post_hocs_wf = pg.pairwise_tests(dv='Data2', within=\"G1\", subject='Subject', data=df, padjust=\"bonf\")\n",
    "\n",
    "post_hocs_bf = pg.pairwise_tests(dv='Data2', between = 'G2', subject='Subject', data=df,padjust=\"bonf\", within_first = True)"
   ]
  },
  {
   "cell_type": "code",
   "execution_count": 10,
   "id": "9bd2a867",
   "metadata": {},
   "outputs": [
    {
     "data": {
      "text/html": [
       "<div>\n",
       "<style scoped>\n",
       "    .dataframe tbody tr th:only-of-type {\n",
       "        vertical-align: middle;\n",
       "    }\n",
       "\n",
       "    .dataframe tbody tr th {\n",
       "        vertical-align: top;\n",
       "    }\n",
       "\n",
       "    .dataframe thead th {\n",
       "        text-align: right;\n",
       "    }\n",
       "</style>\n",
       "<table border=\"1\" class=\"dataframe\">\n",
       "  <thead>\n",
       "    <tr style=\"text-align: right;\">\n",
       "      <th></th>\n",
       "      <th>Contrast</th>\n",
       "      <th>A</th>\n",
       "      <th>B</th>\n",
       "      <th>Paired</th>\n",
       "      <th>Parametric</th>\n",
       "      <th>T</th>\n",
       "      <th>dof</th>\n",
       "      <th>alternative</th>\n",
       "      <th>p-unc</th>\n",
       "      <th>BF10</th>\n",
       "      <th>hedges</th>\n",
       "    </tr>\n",
       "  </thead>\n",
       "  <tbody>\n",
       "    <tr>\n",
       "      <th>0</th>\n",
       "      <td>G1</td>\n",
       "      <td>post</td>\n",
       "      <td>pre</td>\n",
       "      <td>True</td>\n",
       "      <td>True</td>\n",
       "      <td>0.565238</td>\n",
       "      <td>9.0</td>\n",
       "      <td>two-sided</td>\n",
       "      <td>0.585724</td>\n",
       "      <td>0.354</td>\n",
       "      <td>0.086569</td>\n",
       "    </tr>\n",
       "  </tbody>\n",
       "</table>\n",
       "</div>"
      ],
      "text/plain": [
       "  Contrast     A    B  Paired  Parametric         T  dof alternative  \\\n",
       "0       G1  post  pre    True        True  0.565238  9.0   two-sided   \n",
       "\n",
       "      p-unc   BF10    hedges  \n",
       "0  0.585724  0.354  0.086569  "
      ]
     },
     "execution_count": 10,
     "metadata": {},
     "output_type": "execute_result"
    }
   ],
   "source": [
    "post_hocs_wf"
   ]
  },
  {
   "cell_type": "code",
   "execution_count": 11,
   "id": "0048602e",
   "metadata": {},
   "outputs": [
    {
     "data": {
      "text/plain": [
       "(array([False, False, False, False, False, False, False]),\n",
       " array([1.        , 0.39394073, 1.        , 0.67777285, 0.26948768,\n",
       "        0.10098172, 0.86752983]))"
      ]
     },
     "execution_count": 11,
     "metadata": {},
     "output_type": "execute_result"
    }
   ],
   "source": [
    "p_arr = np.append(post_hocs_wf[\"p-unc\"].to_numpy(), post_hocs_bf[\"p-unc\"].to_numpy())\n",
    "m_c = pg.multicomp(p_arr)\n",
    "m_c"
   ]
  },
  {
   "cell_type": "code",
   "execution_count": 12,
   "id": "7ab4646b",
   "metadata": {
    "scrolled": true
   },
   "outputs": [
    {
     "data": {
      "text/html": [
       "<div>\n",
       "<style scoped>\n",
       "    .dataframe tbody tr th:only-of-type {\n",
       "        vertical-align: middle;\n",
       "    }\n",
       "\n",
       "    .dataframe tbody tr th {\n",
       "        vertical-align: top;\n",
       "    }\n",
       "\n",
       "    .dataframe thead th {\n",
       "        text-align: right;\n",
       "    }\n",
       "</style>\n",
       "<table border=\"1\" class=\"dataframe\">\n",
       "  <thead>\n",
       "    <tr style=\"text-align: right;\">\n",
       "      <th></th>\n",
       "      <th>Contrast</th>\n",
       "      <th>A</th>\n",
       "      <th>B</th>\n",
       "      <th>Paired</th>\n",
       "      <th>Parametric</th>\n",
       "      <th>T</th>\n",
       "      <th>dof</th>\n",
       "      <th>alternative</th>\n",
       "      <th>p-unc</th>\n",
       "      <th>p-corr</th>\n",
       "      <th>p-adjust</th>\n",
       "      <th>BF10</th>\n",
       "      <th>hedges</th>\n",
       "    </tr>\n",
       "  </thead>\n",
       "  <tbody>\n",
       "    <tr>\n",
       "      <th>0</th>\n",
       "      <td>G2</td>\n",
       "      <td>control</td>\n",
       "      <td>escit</td>\n",
       "      <td>False</td>\n",
       "      <td>True</td>\n",
       "      <td>-1.777159</td>\n",
       "      <td>93.667629</td>\n",
       "      <td>two-sided</td>\n",
       "      <td>0.078788</td>\n",
       "      <td>0.472729</td>\n",
       "      <td>bonf</td>\n",
       "      <td>0.632</td>\n",
       "      <td>-0.264229</td>\n",
       "    </tr>\n",
       "    <tr>\n",
       "      <th>1</th>\n",
       "      <td>G2</td>\n",
       "      <td>control</td>\n",
       "      <td>mirt</td>\n",
       "      <td>False</td>\n",
       "      <td>True</td>\n",
       "      <td>0.480478</td>\n",
       "      <td>597.274964</td>\n",
       "      <td>two-sided</td>\n",
       "      <td>0.631063</td>\n",
       "      <td>1.000000</td>\n",
       "      <td>bonf</td>\n",
       "      <td>0.102</td>\n",
       "      <td>0.039033</td>\n",
       "    </tr>\n",
       "    <tr>\n",
       "      <th>2</th>\n",
       "      <td>G2</td>\n",
       "      <td>control</td>\n",
       "      <td>tryp</td>\n",
       "      <td>False</td>\n",
       "      <td>True</td>\n",
       "      <td>1.381825</td>\n",
       "      <td>127.428354</td>\n",
       "      <td>two-sided</td>\n",
       "      <td>0.169443</td>\n",
       "      <td>1.000000</td>\n",
       "      <td>bonf</td>\n",
       "      <td>0.351</td>\n",
       "      <td>0.157180</td>\n",
       "    </tr>\n",
       "    <tr>\n",
       "      <th>3</th>\n",
       "      <td>G2</td>\n",
       "      <td>escit</td>\n",
       "      <td>mirt</td>\n",
       "      <td>False</td>\n",
       "      <td>True</td>\n",
       "      <td>2.033702</td>\n",
       "      <td>90.353471</td>\n",
       "      <td>two-sided</td>\n",
       "      <td>0.044915</td>\n",
       "      <td>0.269488</td>\n",
       "      <td>bonf</td>\n",
       "      <td>1.006</td>\n",
       "      <td>0.323824</td>\n",
       "    </tr>\n",
       "    <tr>\n",
       "      <th>4</th>\n",
       "      <td>G2</td>\n",
       "      <td>escit</td>\n",
       "      <td>tryp</td>\n",
       "      <td>False</td>\n",
       "      <td>True</td>\n",
       "      <td>2.476919</td>\n",
       "      <td>142.000000</td>\n",
       "      <td>two-sided</td>\n",
       "      <td>0.014426</td>\n",
       "      <td>0.086556</td>\n",
       "      <td>bonf</td>\n",
       "      <td>2.874</td>\n",
       "      <td>0.410636</td>\n",
       "    </tr>\n",
       "    <tr>\n",
       "      <th>5</th>\n",
       "      <td>G2</td>\n",
       "      <td>mirt</td>\n",
       "      <td>tryp</td>\n",
       "      <td>False</td>\n",
       "      <td>True</td>\n",
       "      <td>1.064684</td>\n",
       "      <td>118.880244</td>\n",
       "      <td>two-sided</td>\n",
       "      <td>0.289177</td>\n",
       "      <td>1.000000</td>\n",
       "      <td>bonf</td>\n",
       "      <td>0.246</td>\n",
       "      <td>0.131343</td>\n",
       "    </tr>\n",
       "  </tbody>\n",
       "</table>\n",
       "</div>"
      ],
      "text/plain": [
       "  Contrast        A      B  Paired  Parametric         T         dof  \\\n",
       "0       G2  control  escit   False        True -1.777159   93.667629   \n",
       "1       G2  control   mirt   False        True  0.480478  597.274964   \n",
       "2       G2  control   tryp   False        True  1.381825  127.428354   \n",
       "3       G2    escit   mirt   False        True  2.033702   90.353471   \n",
       "4       G2    escit   tryp   False        True  2.476919  142.000000   \n",
       "5       G2     mirt   tryp   False        True  1.064684  118.880244   \n",
       "\n",
       "  alternative     p-unc    p-corr p-adjust   BF10    hedges  \n",
       "0   two-sided  0.078788  0.472729     bonf  0.632 -0.264229  \n",
       "1   two-sided  0.631063  1.000000     bonf  0.102  0.039033  \n",
       "2   two-sided  0.169443  1.000000     bonf  0.351  0.157180  \n",
       "3   two-sided  0.044915  0.269488     bonf  1.006  0.323824  \n",
       "4   two-sided  0.014426  0.086556     bonf  2.874  0.410636  \n",
       "5   two-sided  0.289177  1.000000     bonf  0.246  0.131343  "
      ]
     },
     "execution_count": 12,
     "metadata": {},
     "output_type": "execute_result"
    }
   ],
   "source": [
    "post_hocs_bf"
   ]
  },
  {
   "cell_type": "code",
   "execution_count": 13,
   "id": "02bc4dd5",
   "metadata": {},
   "outputs": [],
   "source": [
    "post_hocs_wf = pg.pairwise_tests(dv='Data3', within=\"G1\", subject='Subject',padjust=\"bonf\", data=df)\n",
    "\n",
    "post_hocs_bf = pg.pairwise_tests(dv='Data3', between = 'G2', subject='Subject', data=df,padjust=\"bonf\", within_first = False)"
   ]
  },
  {
   "cell_type": "code",
   "execution_count": 14,
   "id": "1721a213-e908-4fd6-b40d-80ce49468e18",
   "metadata": {},
   "outputs": [
    {
     "data": {
      "text/html": [
       "<div>\n",
       "<style scoped>\n",
       "    .dataframe tbody tr th:only-of-type {\n",
       "        vertical-align: middle;\n",
       "    }\n",
       "\n",
       "    .dataframe tbody tr th {\n",
       "        vertical-align: top;\n",
       "    }\n",
       "\n",
       "    .dataframe thead th {\n",
       "        text-align: right;\n",
       "    }\n",
       "</style>\n",
       "<table border=\"1\" class=\"dataframe\">\n",
       "  <thead>\n",
       "    <tr style=\"text-align: right;\">\n",
       "      <th></th>\n",
       "      <th>Contrast</th>\n",
       "      <th>A</th>\n",
       "      <th>B</th>\n",
       "      <th>Paired</th>\n",
       "      <th>Parametric</th>\n",
       "      <th>T</th>\n",
       "      <th>dof</th>\n",
       "      <th>alternative</th>\n",
       "      <th>p-unc</th>\n",
       "      <th>BF10</th>\n",
       "      <th>hedges</th>\n",
       "    </tr>\n",
       "  </thead>\n",
       "  <tbody>\n",
       "    <tr>\n",
       "      <th>0</th>\n",
       "      <td>G1</td>\n",
       "      <td>post</td>\n",
       "      <td>pre</td>\n",
       "      <td>True</td>\n",
       "      <td>True</td>\n",
       "      <td>1.788749</td>\n",
       "      <td>9.0</td>\n",
       "      <td>two-sided</td>\n",
       "      <td>0.107283</td>\n",
       "      <td>1.003</td>\n",
       "      <td>0.490991</td>\n",
       "    </tr>\n",
       "  </tbody>\n",
       "</table>\n",
       "</div>"
      ],
      "text/plain": [
       "  Contrast     A    B  Paired  Parametric         T  dof alternative  \\\n",
       "0       G1  post  pre    True        True  1.788749  9.0   two-sided   \n",
       "\n",
       "      p-unc   BF10    hedges  \n",
       "0  0.107283  1.003  0.490991  "
      ]
     },
     "execution_count": 14,
     "metadata": {},
     "output_type": "execute_result"
    }
   ],
   "source": [
    "post_hocs_wf"
   ]
  },
  {
   "cell_type": "code",
   "execution_count": 15,
   "id": "0516c02a-a884-4669-be00-827f70d7a0cf",
   "metadata": {},
   "outputs": [
    {
     "data": {
      "text/html": [
       "<div>\n",
       "<style scoped>\n",
       "    .dataframe tbody tr th:only-of-type {\n",
       "        vertical-align: middle;\n",
       "    }\n",
       "\n",
       "    .dataframe tbody tr th {\n",
       "        vertical-align: top;\n",
       "    }\n",
       "\n",
       "    .dataframe thead th {\n",
       "        text-align: right;\n",
       "    }\n",
       "</style>\n",
       "<table border=\"1\" class=\"dataframe\">\n",
       "  <thead>\n",
       "    <tr style=\"text-align: right;\">\n",
       "      <th></th>\n",
       "      <th>Contrast</th>\n",
       "      <th>A</th>\n",
       "      <th>B</th>\n",
       "      <th>Paired</th>\n",
       "      <th>Parametric</th>\n",
       "      <th>T</th>\n",
       "      <th>dof</th>\n",
       "      <th>alternative</th>\n",
       "      <th>p-unc</th>\n",
       "      <th>p-corr</th>\n",
       "      <th>p-adjust</th>\n",
       "      <th>BF10</th>\n",
       "      <th>hedges</th>\n",
       "    </tr>\n",
       "  </thead>\n",
       "  <tbody>\n",
       "    <tr>\n",
       "      <th>0</th>\n",
       "      <td>G2</td>\n",
       "      <td>control</td>\n",
       "      <td>escit</td>\n",
       "      <td>False</td>\n",
       "      <td>True</td>\n",
       "      <td>-1.583990</td>\n",
       "      <td>98.670355</td>\n",
       "      <td>two-sided</td>\n",
       "      <td>0.116396</td>\n",
       "      <td>0.698376</td>\n",
       "      <td>bonf</td>\n",
       "      <td>0.466</td>\n",
       "      <td>-0.222085</td>\n",
       "    </tr>\n",
       "    <tr>\n",
       "      <th>1</th>\n",
       "      <td>G2</td>\n",
       "      <td>control</td>\n",
       "      <td>mirt</td>\n",
       "      <td>False</td>\n",
       "      <td>True</td>\n",
       "      <td>-0.801461</td>\n",
       "      <td>596.836895</td>\n",
       "      <td>two-sided</td>\n",
       "      <td>0.423184</td>\n",
       "      <td>1.000000</td>\n",
       "      <td>bonf</td>\n",
       "      <td>0.125</td>\n",
       "      <td>-0.065315</td>\n",
       "    </tr>\n",
       "    <tr>\n",
       "      <th>2</th>\n",
       "      <td>G2</td>\n",
       "      <td>control</td>\n",
       "      <td>tryp</td>\n",
       "      <td>False</td>\n",
       "      <td>True</td>\n",
       "      <td>1.175620</td>\n",
       "      <td>130.057477</td>\n",
       "      <td>two-sided</td>\n",
       "      <td>0.241894</td>\n",
       "      <td>1.000000</td>\n",
       "      <td>bonf</td>\n",
       "      <td>0.274</td>\n",
       "      <td>0.132002</td>\n",
       "    </tr>\n",
       "    <tr>\n",
       "      <th>3</th>\n",
       "      <td>G2</td>\n",
       "      <td>escit</td>\n",
       "      <td>mirt</td>\n",
       "      <td>False</td>\n",
       "      <td>True</td>\n",
       "      <td>1.136215</td>\n",
       "      <td>98.838582</td>\n",
       "      <td>two-sided</td>\n",
       "      <td>0.258614</td>\n",
       "      <td>1.000000</td>\n",
       "      <td>bonf</td>\n",
       "      <td>0.264</td>\n",
       "      <td>0.163533</td>\n",
       "    </tr>\n",
       "    <tr>\n",
       "      <th>4</th>\n",
       "      <td>G2</td>\n",
       "      <td>escit</td>\n",
       "      <td>tryp</td>\n",
       "      <td>False</td>\n",
       "      <td>True</td>\n",
       "      <td>2.202103</td>\n",
       "      <td>142.000000</td>\n",
       "      <td>two-sided</td>\n",
       "      <td>0.029271</td>\n",
       "      <td>0.175628</td>\n",
       "      <td>bonf</td>\n",
       "      <td>1.617</td>\n",
       "      <td>0.365075</td>\n",
       "    </tr>\n",
       "    <tr>\n",
       "      <th>5</th>\n",
       "      <td>G2</td>\n",
       "      <td>mirt</td>\n",
       "      <td>tryp</td>\n",
       "      <td>False</td>\n",
       "      <td>True</td>\n",
       "      <td>1.766791</td>\n",
       "      <td>130.215357</td>\n",
       "      <td>two-sided</td>\n",
       "      <td>0.079606</td>\n",
       "      <td>0.477637</td>\n",
       "      <td>bonf</td>\n",
       "      <td>0.625</td>\n",
       "      <td>0.205379</td>\n",
       "    </tr>\n",
       "  </tbody>\n",
       "</table>\n",
       "</div>"
      ],
      "text/plain": [
       "  Contrast        A      B  Paired  Parametric         T         dof  \\\n",
       "0       G2  control  escit   False        True -1.583990   98.670355   \n",
       "1       G2  control   mirt   False        True -0.801461  596.836895   \n",
       "2       G2  control   tryp   False        True  1.175620  130.057477   \n",
       "3       G2    escit   mirt   False        True  1.136215   98.838582   \n",
       "4       G2    escit   tryp   False        True  2.202103  142.000000   \n",
       "5       G2     mirt   tryp   False        True  1.766791  130.215357   \n",
       "\n",
       "  alternative     p-unc    p-corr p-adjust   BF10    hedges  \n",
       "0   two-sided  0.116396  0.698376     bonf  0.466 -0.222085  \n",
       "1   two-sided  0.423184  1.000000     bonf  0.125 -0.065315  \n",
       "2   two-sided  0.241894  1.000000     bonf  0.274  0.132002  \n",
       "3   two-sided  0.258614  1.000000     bonf  0.264  0.163533  \n",
       "4   two-sided  0.029271  0.175628     bonf  1.617  0.365075  \n",
       "5   two-sided  0.079606  0.477637     bonf  0.625  0.205379  "
      ]
     },
     "execution_count": 15,
     "metadata": {},
     "output_type": "execute_result"
    }
   ],
   "source": [
    "post_hocs_bf"
   ]
  },
  {
   "cell_type": "code",
   "execution_count": 16,
   "id": "f69d1199",
   "metadata": {},
   "outputs": [
    {
     "data": {
      "text/plain": [
       "(array([False, False, False, False, False, False, False]),\n",
       " array([0.53641465, 0.53641465, 0.72568335, 0.72568335, 0.72568335,\n",
       "        0.20489958, 0.47763721]))"
      ]
     },
     "execution_count": 16,
     "metadata": {},
     "output_type": "execute_result"
    }
   ],
   "source": [
    "p_arr = np.append(post_hocs_wf[\"p-unc\"].to_numpy(), post_hocs_bf[\"p-unc\"].to_numpy())\n",
    "m_c = pg.multicomp(p_arr)\n",
    "m_c"
   ]
  },
  {
   "cell_type": "code",
   "execution_count": 17,
   "id": "51e6c489",
   "metadata": {},
   "outputs": [
    {
     "name": "stdout",
     "output_type": "stream",
     "text": [
      "Data1     0.532354\n",
      "Data2     0.237116\n",
      "Data3     0.230530\n",
      "Labels    0.583333\n",
      "dtype: float64\n",
      "Data1     0.276633\n",
      "Data2     0.262270\n",
      "Data3     0.259503\n",
      "Labels    0.791492\n",
      "dtype: float64\n"
     ]
    }
   ],
   "source": [
    "print(df[(df['G1'] == 'pre')].mean())\n",
    "print(df[(df['G1'] == 'pre')].std())"
   ]
  },
  {
   "cell_type": "code",
   "execution_count": 18,
   "id": "fa9fd00e",
   "metadata": {},
   "outputs": [
    {
     "name": "stdout",
     "output_type": "stream",
     "text": [
      "Data1     0.486397\n",
      "Data2     0.243793\n",
      "Data3     0.269810\n",
      "Labels    0.701613\n",
      "dtype: float64\n",
      "Data1     0.284439\n",
      "Data2     0.279188\n",
      "Data3     0.287111\n",
      "Labels    0.840163\n",
      "dtype: float64\n"
     ]
    }
   ],
   "source": [
    "print(df[(df['G1'] == 'post')].mean())\n",
    "print(df[(df['G1'] == 'post')].std())"
   ]
  },
  {
   "cell_type": "code",
   "execution_count": 19,
   "id": "9b2201f5-f5ca-4319-9c26-eadd14c724e5",
   "metadata": {},
   "outputs": [
    {
     "name": "stdout",
     "output_type": "stream",
     "text": [
      "Data1     0.518409\n",
      "Data2     0.241083\n",
      "Data3     0.240508\n",
      "Labels    0.612179\n",
      "dtype: float64\n",
      "Data1     0.290576\n",
      "Data2     0.278838\n",
      "Data3     0.279243\n",
      "Labels    0.806074\n",
      "dtype: float64\n"
     ]
    }
   ],
   "source": [
    "print(df[(df['G2'] == 'control')].mean())\n",
    "print(df[(df['G2'] == 'control')].std())"
   ]
  },
  {
   "cell_type": "code",
   "execution_count": 20,
   "id": "03b2ecde",
   "metadata": {},
   "outputs": [
    {
     "name": "stdout",
     "output_type": "stream",
     "text": [
      "Data1     0.377475\n",
      "Data2     0.318405\n",
      "Data3     0.304121\n",
      "Labels    0.875000\n",
      "dtype: float64\n",
      "Data1     0.297982\n",
      "Data2     0.344026\n",
      "Data3     0.313251\n",
      "Labels    0.821155\n",
      "dtype: float64\n"
     ]
    }
   ],
   "source": [
    "print(df[(df['G2'] == 'escit')].mean())\n",
    "print(df[(df['G2'] == 'escit')].std())"
   ]
  },
  {
   "cell_type": "code",
   "execution_count": 21,
   "id": "a017d489",
   "metadata": {},
   "outputs": [
    {
     "name": "stdout",
     "output_type": "stream",
     "text": [
      "Data1     0.510801\n",
      "Data2     0.230737\n",
      "Data3     0.258462\n",
      "Labels    0.684028\n",
      "dtype: float64\n",
      "Data1     0.264345\n",
      "Data2     0.248520\n",
      "Data3     0.269357\n",
      "Labels    0.843600\n",
      "dtype: float64\n"
     ]
    }
   ],
   "source": [
    "print(df[(df['G2'] == 'mirt')].mean())\n",
    "print(df[(df['G2'] == 'mirt')].std())"
   ]
  },
  {
   "cell_type": "code",
   "execution_count": 22,
   "id": "071262a2",
   "metadata": {},
   "outputs": [
    {
     "name": "stdout",
     "output_type": "stream",
     "text": [
      "Data1     0.596427\n",
      "Data2     0.198654\n",
      "Data3     0.204920\n",
      "Labels    0.375000\n",
      "dtype: float64\n",
      "Data1     0.247727\n",
      "Data2     0.223471\n",
      "Data3     0.219059\n",
      "Labels    0.680462\n",
      "dtype: float64\n"
     ]
    }
   ],
   "source": [
    "print(df[(df['G2'] == 'tryp')].mean())\n",
    "print(df[(df['G2'] == 'tryp')].std())"
   ]
  },
  {
   "cell_type": "code",
   "execution_count": 23,
   "id": "3fa1d63d-39f7-4ce1-a8cb-8738322d06bf",
   "metadata": {},
   "outputs": [
    {
     "name": "stdout",
     "output_type": "stream",
     "text": [
      "Data1     0.557955\n",
      "Data2     0.233350\n",
      "Data3     0.208695\n",
      "Labels    0.532051\n",
      "dtype: float64\n",
      "Data1     0.281920\n",
      "Data2     0.264340\n",
      "Data3     0.253486\n",
      "Labels    0.765547\n",
      "dtype: float64\n"
     ]
    }
   ],
   "source": [
    "print(df[(df['G2'] == 'control') & (df['G1'] == 'pre')].mean())\n",
    "print(df[(df['G2'] == 'control') & (df['G1'] == 'pre')].std())"
   ]
  },
  {
   "cell_type": "code",
   "execution_count": 24,
   "id": "f89344bf-1b72-450e-b03b-838afd158f52",
   "metadata": {},
   "outputs": [
    {
     "name": "stdout",
     "output_type": "stream",
     "text": [
      "Data1     0.395578\n",
      "Data2     0.318267\n",
      "Data3     0.286155\n",
      "Labels    0.750000\n",
      "dtype: float64\n",
      "Data1     0.311430\n",
      "Data2     0.344527\n",
      "Data3     0.308703\n",
      "Labels    0.806226\n",
      "dtype: float64\n"
     ]
    }
   ],
   "source": [
    "print(df[(df['G2'] == 'escit') & (df['G1'] == 'pre')].mean())\n",
    "print(df[(df['G2'] == 'escit') & (df['G1'] == 'pre')].std())"
   ]
  },
  {
   "cell_type": "code",
   "execution_count": 25,
   "id": "f99e3eda-333d-46ea-8f91-3065f1b0369c",
   "metadata": {},
   "outputs": [
    {
     "name": "stdout",
     "output_type": "stream",
     "text": [
      "Data1     0.359372\n",
      "Data2     0.318542\n",
      "Data3     0.322086\n",
      "Labels    1.000000\n",
      "dtype: float64\n",
      "Data1     0.287161\n",
      "Data2     0.348411\n",
      "Data3     0.321084\n",
      "Labels    0.828079\n",
      "dtype: float64\n"
     ]
    }
   ],
   "source": [
    "print(df[(df['G2'] == 'escit') & (df['G1'] == 'post')].mean())\n",
    "print(df[(df['G2'] == 'escit') & (df['G1'] == 'post')].std())"
   ]
  },
  {
   "cell_type": "code",
   "execution_count": 26,
   "id": "4ed48d0e-5034-4584-acae-109791802c10",
   "metadata": {},
   "outputs": [
    {
     "name": "stdout",
     "output_type": "stream",
     "text": [
      "Data1     0.588330\n",
      "Data2     0.196703\n",
      "Data3     0.214968\n",
      "Labels    0.416667\n",
      "dtype: float64\n",
      "Data1     0.227375\n",
      "Data2     0.213325\n",
      "Data3     0.229138\n",
      "Labels    0.731925\n",
      "dtype: float64\n"
     ]
    }
   ],
   "source": [
    "print(df[(df['G2'] == 'tryp') & (df['G1'] == 'pre')].mean())\n",
    "print(df[(df['G2'] == 'tryp') & (df['G1'] == 'pre')].std())"
   ]
  },
  {
   "cell_type": "code",
   "execution_count": 27,
   "id": "3e62e46b-5c8f-4bff-9c8d-b8c48dfa0d8d",
   "metadata": {},
   "outputs": [
    {
     "name": "stdout",
     "output_type": "stream",
     "text": [
      "Data1     0.604524\n",
      "Data2     0.200605\n",
      "Data3     0.194871\n",
      "Labels    0.333333\n",
      "dtype: float64\n",
      "Data1     0.269548\n",
      "Data2     0.236200\n",
      "Data3     0.211264\n",
      "Labels    0.632456\n",
      "dtype: float64\n"
     ]
    }
   ],
   "source": [
    "print(df[(df['G2'] == 'tryp') & (df['G1'] == 'post')].mean())\n",
    "print(df[(df['G2'] == 'tryp') & (df['G1'] == 'post')].std())"
   ]
  },
  {
   "cell_type": "code",
   "execution_count": 28,
   "id": "b4559efa-416f-4d2f-b214-05cb3f2c7a9b",
   "metadata": {},
   "outputs": [
    {
     "name": "stdout",
     "output_type": "stream",
     "text": [
      "Data1     0.524818\n",
      "Data2     0.231012\n",
      "Data3     0.244170\n",
      "Labels    0.638889\n",
      "dtype: float64\n",
      "Data1     0.264061\n",
      "Data2     0.245776\n",
      "Data3     0.259503\n",
      "Labels    0.824546\n",
      "dtype: float64\n"
     ]
    }
   ],
   "source": [
    "print(df[(df['G2'] == 'mirt') & (df['G1'] == 'pre')].mean())\n",
    "print(df[(df['G2'] == 'mirt') & (df['G1'] == 'pre')].std())"
   ]
  },
  {
   "cell_type": "code",
   "execution_count": 29,
   "id": "078a1fda-673e-42e4-9c49-cf2ec83b3e37",
   "metadata": {},
   "outputs": [
    {
     "name": "stdout",
     "output_type": "stream",
     "text": [
      "Data1     0.496783\n",
      "Data2     0.230462\n",
      "Data3     0.272755\n",
      "Labels    0.729167\n",
      "dtype: float64\n",
      "Data1     0.264804\n",
      "Data2     0.252092\n",
      "Data3     0.279034\n",
      "Labels    0.862739\n",
      "dtype: float64\n"
     ]
    }
   ],
   "source": [
    "print(df[(df['G2'] == 'mirt') & (df['G1'] == 'post')].mean())\n",
    "print(df[(df['G2'] == 'mirt') & (df['G1'] == 'post')].std())"
   ]
  },
  {
   "cell_type": "code",
   "execution_count": 30,
   "id": "5bddc434",
   "metadata": {},
   "outputs": [
    {
     "name": "stdout",
     "output_type": "stream",
     "text": [
      "Data1     0.505702\n",
      "Data2     0.249067\n",
      "Data3     0.245230\n",
      "Labels    0.626437\n",
      "dtype: float64\n",
      "Data1     0.294721\n",
      "Data2     0.286725\n",
      "Data3     0.282299\n",
      "Labels    0.806023\n",
      "dtype: float64\n"
     ]
    }
   ],
   "source": [
    "print(df[(df['G2'] == 'control') | (df['G2'] == 'escit') & (df['G1'] == 'pre')].mean())\n",
    "print(df[(df['G2'] == 'control') | (df['G2'] == 'escit') & (df['G1'] == 'pre')].std())"
   ]
  },
  {
   "cell_type": "code",
   "execution_count": 31,
   "id": "b4a3ab38",
   "metadata": {},
   "outputs": [
    {
     "name": "stdout",
     "output_type": "stream",
     "text": [
      "Data1     0.501957\n",
      "Data2     0.249096\n",
      "Data3     0.248947\n",
      "Labels    0.652299\n",
      "dtype: float64\n",
      "Data1     0.293844\n",
      "Data2     0.287205\n",
      "Data3     0.284437\n",
      "Labels    0.815781\n",
      "dtype: float64\n"
     ]
    }
   ],
   "source": [
    "print(df[(df['G2'] == 'control') | (df['G2'] == 'escit') & (df['G1'] == 'post')].mean())\n",
    "print(df[(df['G2'] == 'control') | (df['G2'] == 'escit') & (df['G1'] == 'post')].std())"
   ]
  },
  {
   "cell_type": "code",
   "execution_count": 32,
   "id": "a11aab47",
   "metadata": {},
   "outputs": [
    {
     "name": "stdout",
     "output_type": "stream",
     "text": [
      "Data1     0.520433\n",
      "Data2     0.237902\n",
      "Data3     0.241665\n",
      "Labels    0.620614\n",
      "dtype: float64\n",
      "Data1     0.282198\n",
      "Data2     0.268609\n",
      "Data3     0.272884\n",
      "Labels    0.811140\n",
      "dtype: float64\n"
     ]
    }
   ],
   "source": [
    "print(df[(df['G2'] == 'control') | (df['G2'] == 'mirt') & (df['G1'] == 'pre')].mean())\n",
    "print(df[(df['G2'] == 'control') | (df['G2'] == 'mirt') & (df['G1'] == 'pre')].std())"
   ]
  },
  {
   "cell_type": "code",
   "execution_count": 33,
   "id": "e113653f",
   "metadata": {},
   "outputs": [
    {
     "name": "stdout",
     "output_type": "stream",
     "text": [
      "Data1     0.511580\n",
      "Data2     0.237729\n",
      "Data3     0.250691\n",
      "Labels    0.649123\n",
      "dtype: float64\n",
      "Data1     0.282580\n",
      "Data2     0.270447\n",
      "Data3     0.279274\n",
      "Labels    0.825233\n",
      "dtype: float64\n"
     ]
    }
   ],
   "source": [
    "print(df[(df['G2'] == 'control') | (df['G2'] == 'mirt') & (df['G1'] == 'post')].mean())\n",
    "print(df[(df['G2'] == 'control') | (df['G2'] == 'mirt') & (df['G1'] == 'post')].std())"
   ]
  },
  {
   "cell_type": "code",
   "execution_count": 34,
   "id": "cd84e7cd",
   "metadata": {},
   "outputs": [
    {
     "name": "stdout",
     "output_type": "stream",
     "text": [
      "Data1     0.525642\n",
      "Data2     0.236492\n",
      "Data3     0.237866\n",
      "Labels    0.591954\n",
      "dtype: float64\n",
      "Data1     0.285208\n",
      "Data2     0.272870\n",
      "Data3     0.274305\n",
      "Labels    0.799959\n",
      "dtype: float64\n"
     ]
    }
   ],
   "source": [
    "print(df[(df['G2'] == 'control') | (df['G2'] == 'tryp') & (df['G1'] == 'pre')].mean())\n",
    "print(df[(df['G2'] == 'control') | (df['G2'] == 'tryp') & (df['G1'] == 'pre')].std())"
   ]
  },
  {
   "cell_type": "code",
   "execution_count": 35,
   "id": "592b507c",
   "metadata": {},
   "outputs": [
    {
     "name": "stdout",
     "output_type": "stream",
     "text": [
      "Data1     0.527317\n",
      "Data2     0.236895\n",
      "Data3     0.235787\n",
      "Labels    0.583333\n",
      "dtype: float64\n",
      "Data1     0.289297\n",
      "Data2     0.274707\n",
      "Data3     0.273098\n",
      "Labels    0.793677\n",
      "dtype: float64\n"
     ]
    }
   ],
   "source": [
    "print(df[(df['G2'] == 'control') | (df['G2'] == 'tryp') & (df['G1'] == 'post')].mean())\n",
    "print(df[(df['G2'] == 'control') | (df['G2'] == 'tryp') & (df['G1'] == 'post')].std())"
   ]
  },
  {
   "cell_type": "code",
   "execution_count": null,
   "id": "3c7f36be",
   "metadata": {},
   "outputs": [],
   "source": []
  },
  {
   "cell_type": "code",
   "execution_count": null,
   "id": "1719067e",
   "metadata": {},
   "outputs": [],
   "source": []
  }
 ],
 "metadata": {
  "kernelspec": {
   "display_name": "Python 3 (ipykernel)",
   "language": "python",
   "name": "python3"
  },
  "language_info": {
   "codemirror_mode": {
    "name": "ipython",
    "version": 3
   },
   "file_extension": ".py",
   "mimetype": "text/x-python",
   "name": "python",
   "nbconvert_exporter": "python",
   "pygments_lexer": "ipython3",
   "version": "3.9.10"
  }
 },
 "nbformat": 4,
 "nbformat_minor": 5
}
