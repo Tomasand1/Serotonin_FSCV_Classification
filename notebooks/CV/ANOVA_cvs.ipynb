{
 "cells": [
  {
   "cell_type": "code",
   "execution_count": 1,
   "id": "db55daec-48fb-4d7b-889b-4398929e54e8",
   "metadata": {},
   "outputs": [],
   "source": [
    "import pandas as pd\n",
    "import matplotlib.pyplot as plt\n",
    "import seaborn as sns\n",
    "import pingouin as pg\n",
    "import scipy \n",
    "import numpy as np\n",
    "import string\n",
    "import numpy as np\n",
    "import warnings\n",
    "warnings.filterwarnings('ignore')"
   ]
  },
  {
   "cell_type": "code",
   "execution_count": 13,
   "id": "71524265-4e0e-4c6c-baae-30bf4b9bf545",
   "metadata": {},
   "outputs": [
    {
     "name": "stdout",
     "output_type": "stream",
     "text": [
      "['control' 'escit' 'mirt' 'tryp']\n",
      "297600\n"
     ]
    },
    {
     "data": {
      "text/plain": [
       "0    32178\n",
       "2     2982\n",
       "1     2040\n",
       "Name: Labels, dtype: int64"
      ]
     },
     "execution_count": 13,
     "metadata": {},
     "output_type": "execute_result"
    }
   ],
   "source": [
    "df = pd.read_excel('./comparison_data_cvs_sorted.xlsx')\n",
    "df[\"G1\"] = df[\"G1\"].str.strip(string.digits)\n",
    "df[\"G2\"] = df[\"G2\"].str.strip(string.digits)\n",
    "# df = df[df[\"G2\"] != \"escit\"]\n",
    "# df = df[df[\"G2\"] != \"tryp\"]\n",
    "print(np.unique(df[\"G2\"]))\n",
    "print(df.size)\n",
    "# label_0 = pg.mixed_anova(dv='Data1', within='G1', between = 'G2', subject = 'Subject', data=df)\n",
    "label_1 = pg.mixed_anova(dv='Data2', within='G1', between = 'G2', subject = 'Subject', data=df)\n",
    "label_2 = pg.mixed_anova(dv='Data3', within='G1', between = 'G2', subject = 'Subject', data=df)\n",
    "\n",
    "\n",
    "\n",
    "(df[\"Labels\"]).value_counts()\n"
   ]
  },
  {
   "cell_type": "code",
   "execution_count": 4,
   "id": "a73bcb1d-decb-4a1a-ade5-7636b65c64e3",
   "metadata": {},
   "outputs": [
    {
     "data": {
      "text/html": [
       "<div>\n",
       "<style scoped>\n",
       "    .dataframe tbody tr th:only-of-type {\n",
       "        vertical-align: middle;\n",
       "    }\n",
       "\n",
       "    .dataframe tbody tr th {\n",
       "        vertical-align: top;\n",
       "    }\n",
       "\n",
       "    .dataframe thead th {\n",
       "        text-align: right;\n",
       "    }\n",
       "</style>\n",
       "<table border=\"1\" class=\"dataframe\">\n",
       "  <thead>\n",
       "    <tr style=\"text-align: right;\">\n",
       "      <th></th>\n",
       "      <th>G1</th>\n",
       "      <th>G2</th>\n",
       "      <th>Subject</th>\n",
       "      <th>No</th>\n",
       "      <th>Data1</th>\n",
       "      <th>Data2</th>\n",
       "      <th>Data3</th>\n",
       "      <th>Labels</th>\n",
       "    </tr>\n",
       "  </thead>\n",
       "  <tbody>\n",
       "    <tr>\n",
       "      <th>0</th>\n",
       "      <td>post</td>\n",
       "      <td>control</td>\n",
       "      <td>dish1</td>\n",
       "      <td>n0</td>\n",
       "      <td>0.995666</td>\n",
       "      <td>0.002701</td>\n",
       "      <td>0.001634</td>\n",
       "      <td>0</td>\n",
       "    </tr>\n",
       "    <tr>\n",
       "      <th>1</th>\n",
       "      <td>post</td>\n",
       "      <td>control</td>\n",
       "      <td>dish1</td>\n",
       "      <td>n1</td>\n",
       "      <td>0.995672</td>\n",
       "      <td>0.002695</td>\n",
       "      <td>0.001633</td>\n",
       "      <td>0</td>\n",
       "    </tr>\n",
       "    <tr>\n",
       "      <th>2</th>\n",
       "      <td>post</td>\n",
       "      <td>control</td>\n",
       "      <td>dish1</td>\n",
       "      <td>n2</td>\n",
       "      <td>0.995702</td>\n",
       "      <td>0.002664</td>\n",
       "      <td>0.001634</td>\n",
       "      <td>0</td>\n",
       "    </tr>\n",
       "    <tr>\n",
       "      <th>3</th>\n",
       "      <td>post</td>\n",
       "      <td>control</td>\n",
       "      <td>dish1</td>\n",
       "      <td>n3</td>\n",
       "      <td>0.995717</td>\n",
       "      <td>0.002649</td>\n",
       "      <td>0.001635</td>\n",
       "      <td>0</td>\n",
       "    </tr>\n",
       "    <tr>\n",
       "      <th>4</th>\n",
       "      <td>post</td>\n",
       "      <td>control</td>\n",
       "      <td>dish1</td>\n",
       "      <td>n4</td>\n",
       "      <td>0.995697</td>\n",
       "      <td>0.002668</td>\n",
       "      <td>0.001634</td>\n",
       "      <td>0</td>\n",
       "    </tr>\n",
       "    <tr>\n",
       "      <th>...</th>\n",
       "      <td>...</td>\n",
       "      <td>...</td>\n",
       "      <td>...</td>\n",
       "      <td>...</td>\n",
       "      <td>...</td>\n",
       "      <td>...</td>\n",
       "      <td>...</td>\n",
       "      <td>...</td>\n",
       "    </tr>\n",
       "    <tr>\n",
       "      <th>37195</th>\n",
       "      <td>pre</td>\n",
       "      <td>control</td>\n",
       "      <td>dish1</td>\n",
       "      <td>n595</td>\n",
       "      <td>0.995326</td>\n",
       "      <td>0.002415</td>\n",
       "      <td>0.002259</td>\n",
       "      <td>0</td>\n",
       "    </tr>\n",
       "    <tr>\n",
       "      <th>37196</th>\n",
       "      <td>pre</td>\n",
       "      <td>control</td>\n",
       "      <td>dish1</td>\n",
       "      <td>n596</td>\n",
       "      <td>0.995121</td>\n",
       "      <td>0.002209</td>\n",
       "      <td>0.002670</td>\n",
       "      <td>0</td>\n",
       "    </tr>\n",
       "    <tr>\n",
       "      <th>37197</th>\n",
       "      <td>pre</td>\n",
       "      <td>control</td>\n",
       "      <td>dish1</td>\n",
       "      <td>n597</td>\n",
       "      <td>0.994304</td>\n",
       "      <td>0.001774</td>\n",
       "      <td>0.003922</td>\n",
       "      <td>0</td>\n",
       "    </tr>\n",
       "    <tr>\n",
       "      <th>37198</th>\n",
       "      <td>pre</td>\n",
       "      <td>control</td>\n",
       "      <td>dish1</td>\n",
       "      <td>n598</td>\n",
       "      <td>0.982729</td>\n",
       "      <td>0.000915</td>\n",
       "      <td>0.016356</td>\n",
       "      <td>0</td>\n",
       "    </tr>\n",
       "    <tr>\n",
       "      <th>37199</th>\n",
       "      <td>pre</td>\n",
       "      <td>control</td>\n",
       "      <td>dish1</td>\n",
       "      <td>n599</td>\n",
       "      <td>0.877059</td>\n",
       "      <td>0.001405</td>\n",
       "      <td>0.121536</td>\n",
       "      <td>0</td>\n",
       "    </tr>\n",
       "  </tbody>\n",
       "</table>\n",
       "<p>37200 rows × 8 columns</p>\n",
       "</div>"
      ],
      "text/plain": [
       "         G1       G2 Subject    No     Data1     Data2     Data3  Labels\n",
       "0      post  control   dish1    n0  0.995666  0.002701  0.001634       0\n",
       "1      post  control   dish1    n1  0.995672  0.002695  0.001633       0\n",
       "2      post  control   dish1    n2  0.995702  0.002664  0.001634       0\n",
       "3      post  control   dish1    n3  0.995717  0.002649  0.001635       0\n",
       "4      post  control   dish1    n4  0.995697  0.002668  0.001634       0\n",
       "...     ...      ...     ...   ...       ...       ...       ...     ...\n",
       "37195   pre  control   dish1  n595  0.995326  0.002415  0.002259       0\n",
       "37196   pre  control   dish1  n596  0.995121  0.002209  0.002670       0\n",
       "37197   pre  control   dish1  n597  0.994304  0.001774  0.003922       0\n",
       "37198   pre  control   dish1  n598  0.982729  0.000915  0.016356       0\n",
       "37199   pre  control   dish1  n599  0.877059  0.001405  0.121536       0\n",
       "\n",
       "[37200 rows x 8 columns]"
      ]
     },
     "execution_count": 4,
     "metadata": {},
     "output_type": "execute_result"
    }
   ],
   "source": [
    "df"
   ]
  },
  {
   "cell_type": "code",
   "execution_count": 5,
   "id": "dd9bd21c",
   "metadata": {},
   "outputs": [
    {
     "data": {
      "text/html": [
       "<div>\n",
       "<style scoped>\n",
       "    .dataframe tbody tr th:only-of-type {\n",
       "        vertical-align: middle;\n",
       "    }\n",
       "\n",
       "    .dataframe tbody tr th {\n",
       "        vertical-align: top;\n",
       "    }\n",
       "\n",
       "    .dataframe thead th {\n",
       "        text-align: right;\n",
       "    }\n",
       "</style>\n",
       "<table border=\"1\" class=\"dataframe\">\n",
       "  <thead>\n",
       "    <tr style=\"text-align: right;\">\n",
       "      <th></th>\n",
       "      <th>Source</th>\n",
       "      <th>SS</th>\n",
       "      <th>DF1</th>\n",
       "      <th>DF2</th>\n",
       "      <th>MS</th>\n",
       "      <th>F</th>\n",
       "      <th>p-unc</th>\n",
       "      <th>np2</th>\n",
       "      <th>eps</th>\n",
       "    </tr>\n",
       "  </thead>\n",
       "  <tbody>\n",
       "    <tr>\n",
       "      <th>0</th>\n",
       "      <td>G2</td>\n",
       "      <td>0.005266</td>\n",
       "      <td>3</td>\n",
       "      <td>6</td>\n",
       "      <td>0.001755</td>\n",
       "      <td>0.259326</td>\n",
       "      <td>0.852343</td>\n",
       "      <td>0.114780</td>\n",
       "      <td>NaN</td>\n",
       "    </tr>\n",
       "    <tr>\n",
       "      <th>1</th>\n",
       "      <td>G1</td>\n",
       "      <td>0.000837</td>\n",
       "      <td>1</td>\n",
       "      <td>6</td>\n",
       "      <td>0.000837</td>\n",
       "      <td>6.556527</td>\n",
       "      <td>0.042876</td>\n",
       "      <td>0.522161</td>\n",
       "      <td>1.0</td>\n",
       "    </tr>\n",
       "    <tr>\n",
       "      <th>2</th>\n",
       "      <td>Interaction</td>\n",
       "      <td>0.000138</td>\n",
       "      <td>3</td>\n",
       "      <td>6</td>\n",
       "      <td>0.000046</td>\n",
       "      <td>0.360083</td>\n",
       "      <td>0.784405</td>\n",
       "      <td>0.152572</td>\n",
       "      <td>NaN</td>\n",
       "    </tr>\n",
       "  </tbody>\n",
       "</table>\n",
       "</div>"
      ],
      "text/plain": [
       "        Source        SS  DF1  DF2        MS         F     p-unc       np2  \\\n",
       "0           G2  0.005266    3    6  0.001755  0.259326  0.852343  0.114780   \n",
       "1           G1  0.000837    1    6  0.000837  6.556527  0.042876  0.522161   \n",
       "2  Interaction  0.000138    3    6  0.000046  0.360083  0.784405  0.152572   \n",
       "\n",
       "   eps  \n",
       "0  NaN  \n",
       "1  1.0  \n",
       "2  NaN  "
      ]
     },
     "execution_count": 5,
     "metadata": {},
     "output_type": "execute_result"
    }
   ],
   "source": [
    "label_1"
   ]
  },
  {
   "cell_type": "code",
   "execution_count": 6,
   "id": "6af5ba3f",
   "metadata": {},
   "outputs": [
    {
     "data": {
      "text/html": [
       "<div>\n",
       "<style scoped>\n",
       "    .dataframe tbody tr th:only-of-type {\n",
       "        vertical-align: middle;\n",
       "    }\n",
       "\n",
       "    .dataframe tbody tr th {\n",
       "        vertical-align: top;\n",
       "    }\n",
       "\n",
       "    .dataframe thead th {\n",
       "        text-align: right;\n",
       "    }\n",
       "</style>\n",
       "<table border=\"1\" class=\"dataframe\">\n",
       "  <thead>\n",
       "    <tr style=\"text-align: right;\">\n",
       "      <th></th>\n",
       "      <th>Source</th>\n",
       "      <th>SS</th>\n",
       "      <th>DF1</th>\n",
       "      <th>DF2</th>\n",
       "      <th>MS</th>\n",
       "      <th>F</th>\n",
       "      <th>p-unc</th>\n",
       "      <th>np2</th>\n",
       "      <th>eps</th>\n",
       "    </tr>\n",
       "  </thead>\n",
       "  <tbody>\n",
       "    <tr>\n",
       "      <th>0</th>\n",
       "      <td>G2</td>\n",
       "      <td>0.005726</td>\n",
       "      <td>3</td>\n",
       "      <td>6</td>\n",
       "      <td>0.001909</td>\n",
       "      <td>0.198272</td>\n",
       "      <td>0.893905</td>\n",
       "      <td>0.090194</td>\n",
       "      <td>NaN</td>\n",
       "    </tr>\n",
       "    <tr>\n",
       "      <th>1</th>\n",
       "      <td>G1</td>\n",
       "      <td>0.000870</td>\n",
       "      <td>1</td>\n",
       "      <td>6</td>\n",
       "      <td>0.000870</td>\n",
       "      <td>2.600033</td>\n",
       "      <td>0.157988</td>\n",
       "      <td>0.302328</td>\n",
       "      <td>1.0</td>\n",
       "    </tr>\n",
       "    <tr>\n",
       "      <th>2</th>\n",
       "      <td>Interaction</td>\n",
       "      <td>0.000479</td>\n",
       "      <td>3</td>\n",
       "      <td>6</td>\n",
       "      <td>0.000160</td>\n",
       "      <td>0.476556</td>\n",
       "      <td>0.710117</td>\n",
       "      <td>0.192427</td>\n",
       "      <td>NaN</td>\n",
       "    </tr>\n",
       "  </tbody>\n",
       "</table>\n",
       "</div>"
      ],
      "text/plain": [
       "        Source        SS  DF1  DF2        MS         F     p-unc       np2  \\\n",
       "0           G2  0.005726    3    6  0.001909  0.198272  0.893905  0.090194   \n",
       "1           G1  0.000870    1    6  0.000870  2.600033  0.157988  0.302328   \n",
       "2  Interaction  0.000479    3    6  0.000160  0.476556  0.710117  0.192427   \n",
       "\n",
       "   eps  \n",
       "0  NaN  \n",
       "1  1.0  \n",
       "2  NaN  "
      ]
     },
     "execution_count": 6,
     "metadata": {},
     "output_type": "execute_result"
    }
   ],
   "source": [
    "label_2"
   ]
  },
  {
   "cell_type": "code",
   "execution_count": 12,
   "id": "fb25c32f",
   "metadata": {},
   "outputs": [],
   "source": [
    "post_hocs_wf = pg.pairwise_tests(dv='Data2', within=\"G1\", subject='Subject', data=df, padjust=\"bonf\")\n",
    "\n",
    "post_hocs_bf = pg.pairwise_tests(dv='Data2', between = 'G2', subject='Subject', data=df,padjust=\"bonf\", within_first = True)"
   ]
  },
  {
   "cell_type": "code",
   "execution_count": 13,
   "id": "9bd2a867",
   "metadata": {},
   "outputs": [
    {
     "data": {
      "text/html": [
       "<div>\n",
       "<style scoped>\n",
       "    .dataframe tbody tr th:only-of-type {\n",
       "        vertical-align: middle;\n",
       "    }\n",
       "\n",
       "    .dataframe tbody tr th {\n",
       "        vertical-align: top;\n",
       "    }\n",
       "\n",
       "    .dataframe thead th {\n",
       "        text-align: right;\n",
       "    }\n",
       "</style>\n",
       "<table border=\"1\" class=\"dataframe\">\n",
       "  <thead>\n",
       "    <tr style=\"text-align: right;\">\n",
       "      <th></th>\n",
       "      <th>Contrast</th>\n",
       "      <th>A</th>\n",
       "      <th>B</th>\n",
       "      <th>Paired</th>\n",
       "      <th>Parametric</th>\n",
       "      <th>T</th>\n",
       "      <th>dof</th>\n",
       "      <th>alternative</th>\n",
       "      <th>p-unc</th>\n",
       "      <th>BF10</th>\n",
       "      <th>hedges</th>\n",
       "    </tr>\n",
       "  </thead>\n",
       "  <tbody>\n",
       "    <tr>\n",
       "      <th>0</th>\n",
       "      <td>G1</td>\n",
       "      <td>post</td>\n",
       "      <td>pre</td>\n",
       "      <td>True</td>\n",
       "      <td>True</td>\n",
       "      <td>2.886914</td>\n",
       "      <td>9.0</td>\n",
       "      <td>two-sided</td>\n",
       "      <td>0.017974</td>\n",
       "      <td>3.89</td>\n",
       "      <td>0.24301</td>\n",
       "    </tr>\n",
       "  </tbody>\n",
       "</table>\n",
       "</div>"
      ],
      "text/plain": [
       "  Contrast     A    B  Paired  Parametric         T  dof alternative  \\\n",
       "0       G1  post  pre    True        True  2.886914  9.0   two-sided   \n",
       "\n",
       "      p-unc  BF10   hedges  \n",
       "0  0.017974  3.89  0.24301  "
      ]
     },
     "execution_count": 13,
     "metadata": {},
     "output_type": "execute_result"
    }
   ],
   "source": [
    "post_hocs_wf"
   ]
  },
  {
   "cell_type": "code",
   "execution_count": 14,
   "id": "0048602e",
   "metadata": {},
   "outputs": [
    {
     "data": {
      "text/plain": [
       "(array([ True,  True,  True, False,  True,  True,  True]),\n",
       " array([3.59487726e-02, 8.44459466e-21, 1.73687030e-20, 4.38157566e-01,\n",
       "        2.47034620e-44, 1.42800200e-17, 4.18364889e-06]))"
      ]
     },
     "execution_count": 14,
     "metadata": {},
     "output_type": "execute_result"
    }
   ],
   "source": [
    "p_arr = np.append(post_hocs_wf[\"p-unc\"].to_numpy(), post_hocs_bf[\"p-unc\"].to_numpy())\n",
    "m_c = pg.multicomp(p_arr)\n",
    "m_c"
   ]
  },
  {
   "cell_type": "code",
   "execution_count": 15,
   "id": "7ab4646b",
   "metadata": {
    "scrolled": true
   },
   "outputs": [
    {
     "data": {
      "text/html": [
       "<div>\n",
       "<style scoped>\n",
       "    .dataframe tbody tr th:only-of-type {\n",
       "        vertical-align: middle;\n",
       "    }\n",
       "\n",
       "    .dataframe tbody tr th {\n",
       "        vertical-align: top;\n",
       "    }\n",
       "\n",
       "    .dataframe thead th {\n",
       "        text-align: right;\n",
       "    }\n",
       "</style>\n",
       "<table border=\"1\" class=\"dataframe\">\n",
       "  <thead>\n",
       "    <tr style=\"text-align: right;\">\n",
       "      <th></th>\n",
       "      <th>Contrast</th>\n",
       "      <th>A</th>\n",
       "      <th>B</th>\n",
       "      <th>Paired</th>\n",
       "      <th>Parametric</th>\n",
       "      <th>T</th>\n",
       "      <th>dof</th>\n",
       "      <th>alternative</th>\n",
       "      <th>p-unc</th>\n",
       "      <th>p-corr</th>\n",
       "      <th>p-adjust</th>\n",
       "      <th>BF10</th>\n",
       "      <th>hedges</th>\n",
       "    </tr>\n",
       "  </thead>\n",
       "  <tbody>\n",
       "    <tr>\n",
       "      <th>0</th>\n",
       "      <td>G2</td>\n",
       "      <td>control</td>\n",
       "      <td>escit</td>\n",
       "      <td>False</td>\n",
       "      <td>True</td>\n",
       "      <td>-9.588096</td>\n",
       "      <td>4734.093920</td>\n",
       "      <td>two-sided</td>\n",
       "      <td>1.407432e-21</td>\n",
       "      <td>8.444595e-21</td>\n",
       "      <td>bonf</td>\n",
       "      <td>1.617e+18</td>\n",
       "      <td>-0.202621</td>\n",
       "    </tr>\n",
       "    <tr>\n",
       "      <th>1</th>\n",
       "      <td>G2</td>\n",
       "      <td>control</td>\n",
       "      <td>mirt</td>\n",
       "      <td>False</td>\n",
       "      <td>True</td>\n",
       "      <td>9.454878</td>\n",
       "      <td>28497.520228</td>\n",
       "      <td>two-sided</td>\n",
       "      <td>3.473741e-21</td>\n",
       "      <td>2.084244e-20</td>\n",
       "      <td>bonf</td>\n",
       "      <td>3.08e+17</td>\n",
       "      <td>0.107931</td>\n",
       "    </tr>\n",
       "    <tr>\n",
       "      <th>2</th>\n",
       "      <td>G2</td>\n",
       "      <td>control</td>\n",
       "      <td>tryp</td>\n",
       "      <td>False</td>\n",
       "      <td>True</td>\n",
       "      <td>0.775363</td>\n",
       "      <td>5625.720078</td>\n",
       "      <td>two-sided</td>\n",
       "      <td>4.381576e-01</td>\n",
       "      <td>1.000000e+00</td>\n",
       "      <td>bonf</td>\n",
       "      <td>0.028</td>\n",
       "      <td>0.013812</td>\n",
       "    </tr>\n",
       "    <tr>\n",
       "      <th>3</th>\n",
       "      <td>G2</td>\n",
       "      <td>escit</td>\n",
       "      <td>mirt</td>\n",
       "      <td>False</td>\n",
       "      <td>True</td>\n",
       "      <td>14.273171</td>\n",
       "      <td>4238.957216</td>\n",
       "      <td>two-sided</td>\n",
       "      <td>3.529066e-45</td>\n",
       "      <td>2.117440e-44</td>\n",
       "      <td>bonf</td>\n",
       "      <td>1.808e+42</td>\n",
       "      <td>0.359321</td>\n",
       "    </tr>\n",
       "    <tr>\n",
       "      <th>4</th>\n",
       "      <td>G2</td>\n",
       "      <td>escit</td>\n",
       "      <td>tryp</td>\n",
       "      <td>False</td>\n",
       "      <td>True</td>\n",
       "      <td>8.714877</td>\n",
       "      <td>7198.000000</td>\n",
       "      <td>two-sided</td>\n",
       "      <td>3.570005e-18</td>\n",
       "      <td>2.142003e-17</td>\n",
       "      <td>bonf</td>\n",
       "      <td>6.272e+14</td>\n",
       "      <td>0.205390</td>\n",
       "    </tr>\n",
       "    <tr>\n",
       "      <th>5</th>\n",
       "      <td>G2</td>\n",
       "      <td>mirt</td>\n",
       "      <td>tryp</td>\n",
       "      <td>False</td>\n",
       "      <td>True</td>\n",
       "      <td>-4.831983</td>\n",
       "      <td>4730.376207</td>\n",
       "      <td>two-sided</td>\n",
       "      <td>1.394550e-06</td>\n",
       "      <td>8.367298e-06</td>\n",
       "      <td>bonf</td>\n",
       "      <td>2412.809</td>\n",
       "      <td>-0.104795</td>\n",
       "    </tr>\n",
       "  </tbody>\n",
       "</table>\n",
       "</div>"
      ],
      "text/plain": [
       "  Contrast        A      B  Paired  Parametric          T           dof  \\\n",
       "0       G2  control  escit   False        True  -9.588096   4734.093920   \n",
       "1       G2  control   mirt   False        True   9.454878  28497.520228   \n",
       "2       G2  control   tryp   False        True   0.775363   5625.720078   \n",
       "3       G2    escit   mirt   False        True  14.273171   4238.957216   \n",
       "4       G2    escit   tryp   False        True   8.714877   7198.000000   \n",
       "5       G2     mirt   tryp   False        True  -4.831983   4730.376207   \n",
       "\n",
       "  alternative         p-unc        p-corr p-adjust       BF10    hedges  \n",
       "0   two-sided  1.407432e-21  8.444595e-21     bonf  1.617e+18 -0.202621  \n",
       "1   two-sided  3.473741e-21  2.084244e-20     bonf   3.08e+17  0.107931  \n",
       "2   two-sided  4.381576e-01  1.000000e+00     bonf      0.028  0.013812  \n",
       "3   two-sided  3.529066e-45  2.117440e-44     bonf  1.808e+42  0.359321  \n",
       "4   two-sided  3.570005e-18  2.142003e-17     bonf  6.272e+14  0.205390  \n",
       "5   two-sided  1.394550e-06  8.367298e-06     bonf   2412.809 -0.104795  "
      ]
     },
     "execution_count": 15,
     "metadata": {},
     "output_type": "execute_result"
    }
   ],
   "source": [
    "post_hocs_bf"
   ]
  },
  {
   "cell_type": "code",
   "execution_count": 16,
   "id": "02bc4dd5",
   "metadata": {},
   "outputs": [],
   "source": [
    "post_hocs_wf = pg.pairwise_tests(dv='Data3', within=\"G1\", subject='Subject',padjust=\"bonf\", data=df)\n",
    "\n",
    "post_hocs_bf = pg.pairwise_tests(dv='Data3', between = 'G2', subject='Subject', data=df,padjust=\"bonf\", within_first = False)"
   ]
  },
  {
   "cell_type": "code",
   "execution_count": 17,
   "id": "1721a213-e908-4fd6-b40d-80ce49468e18",
   "metadata": {},
   "outputs": [
    {
     "data": {
      "text/html": [
       "<div>\n",
       "<style scoped>\n",
       "    .dataframe tbody tr th:only-of-type {\n",
       "        vertical-align: middle;\n",
       "    }\n",
       "\n",
       "    .dataframe tbody tr th {\n",
       "        vertical-align: top;\n",
       "    }\n",
       "\n",
       "    .dataframe thead th {\n",
       "        text-align: right;\n",
       "    }\n",
       "</style>\n",
       "<table border=\"1\" class=\"dataframe\">\n",
       "  <thead>\n",
       "    <tr style=\"text-align: right;\">\n",
       "      <th></th>\n",
       "      <th>Contrast</th>\n",
       "      <th>A</th>\n",
       "      <th>B</th>\n",
       "      <th>Paired</th>\n",
       "      <th>Parametric</th>\n",
       "      <th>T</th>\n",
       "      <th>dof</th>\n",
       "      <th>alternative</th>\n",
       "      <th>p-unc</th>\n",
       "      <th>BF10</th>\n",
       "      <th>hedges</th>\n",
       "    </tr>\n",
       "  </thead>\n",
       "  <tbody>\n",
       "    <tr>\n",
       "      <th>0</th>\n",
       "      <td>G1</td>\n",
       "      <td>post</td>\n",
       "      <td>pre</td>\n",
       "      <td>True</td>\n",
       "      <td>True</td>\n",
       "      <td>1.774704</td>\n",
       "      <td>9.0</td>\n",
       "      <td>two-sided</td>\n",
       "      <td>0.109689</td>\n",
       "      <td>0.988</td>\n",
       "      <td>0.208708</td>\n",
       "    </tr>\n",
       "  </tbody>\n",
       "</table>\n",
       "</div>"
      ],
      "text/plain": [
       "  Contrast     A    B  Paired  Parametric         T  dof alternative  \\\n",
       "0       G1  post  pre    True        True  1.774704  9.0   two-sided   \n",
       "\n",
       "      p-unc   BF10    hedges  \n",
       "0  0.109689  0.988  0.208708  "
      ]
     },
     "execution_count": 17,
     "metadata": {},
     "output_type": "execute_result"
    }
   ],
   "source": [
    "post_hocs_wf"
   ]
  },
  {
   "cell_type": "code",
   "execution_count": 18,
   "id": "0516c02a-a884-4669-be00-827f70d7a0cf",
   "metadata": {},
   "outputs": [
    {
     "data": {
      "text/html": [
       "<div>\n",
       "<style scoped>\n",
       "    .dataframe tbody tr th:only-of-type {\n",
       "        vertical-align: middle;\n",
       "    }\n",
       "\n",
       "    .dataframe tbody tr th {\n",
       "        vertical-align: top;\n",
       "    }\n",
       "\n",
       "    .dataframe thead th {\n",
       "        text-align: right;\n",
       "    }\n",
       "</style>\n",
       "<table border=\"1\" class=\"dataframe\">\n",
       "  <thead>\n",
       "    <tr style=\"text-align: right;\">\n",
       "      <th></th>\n",
       "      <th>Contrast</th>\n",
       "      <th>A</th>\n",
       "      <th>B</th>\n",
       "      <th>Paired</th>\n",
       "      <th>Parametric</th>\n",
       "      <th>T</th>\n",
       "      <th>dof</th>\n",
       "      <th>alternative</th>\n",
       "      <th>p-unc</th>\n",
       "      <th>p-corr</th>\n",
       "      <th>p-adjust</th>\n",
       "      <th>BF10</th>\n",
       "      <th>hedges</th>\n",
       "    </tr>\n",
       "  </thead>\n",
       "  <tbody>\n",
       "    <tr>\n",
       "      <th>0</th>\n",
       "      <td>G2</td>\n",
       "      <td>control</td>\n",
       "      <td>escit</td>\n",
       "      <td>False</td>\n",
       "      <td>True</td>\n",
       "      <td>-10.897364</td>\n",
       "      <td>4793.682772</td>\n",
       "      <td>two-sided</td>\n",
       "      <td>2.476102e-27</td>\n",
       "      <td>1.485661e-26</td>\n",
       "      <td>bonf</td>\n",
       "      <td>9.864e+23</td>\n",
       "      <td>-0.226879</td>\n",
       "    </tr>\n",
       "    <tr>\n",
       "      <th>1</th>\n",
       "      <td>G2</td>\n",
       "      <td>control</td>\n",
       "      <td>mirt</td>\n",
       "      <td>False</td>\n",
       "      <td>True</td>\n",
       "      <td>3.772997</td>\n",
       "      <td>29858.494615</td>\n",
       "      <td>two-sided</td>\n",
       "      <td>1.616095e-04</td>\n",
       "      <td>9.696568e-04</td>\n",
       "      <td>bonf</td>\n",
       "      <td>16.001</td>\n",
       "      <td>0.043344</td>\n",
       "    </tr>\n",
       "    <tr>\n",
       "      <th>2</th>\n",
       "      <td>G2</td>\n",
       "      <td>control</td>\n",
       "      <td>tryp</td>\n",
       "      <td>False</td>\n",
       "      <td>True</td>\n",
       "      <td>1.565583</td>\n",
       "      <td>5740.629742</td>\n",
       "      <td>two-sided</td>\n",
       "      <td>1.175014e-01</td>\n",
       "      <td>7.050082e-01</td>\n",
       "      <td>bonf</td>\n",
       "      <td>0.071</td>\n",
       "      <td>0.027441</td>\n",
       "    </tr>\n",
       "    <tr>\n",
       "      <th>3</th>\n",
       "      <td>G2</td>\n",
       "      <td>escit</td>\n",
       "      <td>mirt</td>\n",
       "      <td>False</td>\n",
       "      <td>True</td>\n",
       "      <td>12.939545</td>\n",
       "      <td>4549.985157</td>\n",
       "      <td>two-sided</td>\n",
       "      <td>1.232832e-37</td>\n",
       "      <td>7.396993e-37</td>\n",
       "      <td>bonf</td>\n",
       "      <td>2.925e+34</td>\n",
       "      <td>0.294230</td>\n",
       "    </tr>\n",
       "    <tr>\n",
       "      <th>4</th>\n",
       "      <td>G2</td>\n",
       "      <td>escit</td>\n",
       "      <td>tryp</td>\n",
       "      <td>False</td>\n",
       "      <td>True</td>\n",
       "      <td>10.409790</td>\n",
       "      <td>7198.000000</td>\n",
       "      <td>two-sided</td>\n",
       "      <td>3.375153e-25</td>\n",
       "      <td>2.025092e-24</td>\n",
       "      <td>bonf</td>\n",
       "      <td>5.42e+21</td>\n",
       "      <td>0.245336</td>\n",
       "    </tr>\n",
       "    <tr>\n",
       "      <th>5</th>\n",
       "      <td>G2</td>\n",
       "      <td>mirt</td>\n",
       "      <td>tryp</td>\n",
       "      <td>False</td>\n",
       "      <td>True</td>\n",
       "      <td>-0.801395</td>\n",
       "      <td>5295.302314</td>\n",
       "      <td>two-sided</td>\n",
       "      <td>4.229388e-01</td>\n",
       "      <td>1.000000e+00</td>\n",
       "      <td>bonf</td>\n",
       "      <td>0.029</td>\n",
       "      <td>-0.015509</td>\n",
       "    </tr>\n",
       "  </tbody>\n",
       "</table>\n",
       "</div>"
      ],
      "text/plain": [
       "  Contrast        A      B  Paired  Parametric          T           dof  \\\n",
       "0       G2  control  escit   False        True -10.897364   4793.682772   \n",
       "1       G2  control   mirt   False        True   3.772997  29858.494615   \n",
       "2       G2  control   tryp   False        True   1.565583   5740.629742   \n",
       "3       G2    escit   mirt   False        True  12.939545   4549.985157   \n",
       "4       G2    escit   tryp   False        True  10.409790   7198.000000   \n",
       "5       G2     mirt   tryp   False        True  -0.801395   5295.302314   \n",
       "\n",
       "  alternative         p-unc        p-corr p-adjust       BF10    hedges  \n",
       "0   two-sided  2.476102e-27  1.485661e-26     bonf  9.864e+23 -0.226879  \n",
       "1   two-sided  1.616095e-04  9.696568e-04     bonf     16.001  0.043344  \n",
       "2   two-sided  1.175014e-01  7.050082e-01     bonf      0.071  0.027441  \n",
       "3   two-sided  1.232832e-37  7.396993e-37     bonf  2.925e+34  0.294230  \n",
       "4   two-sided  3.375153e-25  2.025092e-24     bonf   5.42e+21  0.245336  \n",
       "5   two-sided  4.229388e-01  1.000000e+00     bonf      0.029 -0.015509  "
      ]
     },
     "execution_count": 18,
     "metadata": {},
     "output_type": "execute_result"
    }
   ],
   "source": [
    "post_hocs_bf"
   ]
  },
  {
   "cell_type": "code",
   "execution_count": 19,
   "id": "f69d1199",
   "metadata": {},
   "outputs": [
    {
     "data": {
      "text/plain": [
       "(array([False,  True,  True, False,  True,  True, False]),\n",
       " array([3.29068207e-01, 1.48566107e-26, 6.46437865e-04, 3.29068207e-01,\n",
       "        8.62982561e-37, 1.68757671e-24, 4.22938778e-01]))"
      ]
     },
     "execution_count": 19,
     "metadata": {},
     "output_type": "execute_result"
    }
   ],
   "source": [
    "p_arr = np.append(post_hocs_wf[\"p-unc\"].to_numpy(), post_hocs_bf[\"p-unc\"].to_numpy())\n",
    "m_c = pg.multicomp(p_arr)\n",
    "m_c"
   ]
  },
  {
   "cell_type": "code",
   "execution_count": 366,
   "id": "51e6c489",
   "metadata": {},
   "outputs": [
    {
     "name": "stdout",
     "output_type": "stream",
     "text": [
      "Data1     0.865736\n",
      "Data2     0.056151\n",
      "Data3     0.078113\n",
      "Labels    0.191989\n",
      "dtype: float64\n",
      "Data1     0.238179\n",
      "Data2     0.159322\n",
      "Data3     0.197971\n",
      "Labels    0.547610\n",
      "dtype: float64\n"
     ]
    }
   ],
   "source": [
    "print(df[(df['G1'] == 'pre')].mean())\n",
    "print(df[(df['G1'] == 'pre')].std())"
   ]
  },
  {
   "cell_type": "code",
   "execution_count": 367,
   "id": "fa9fd00e",
   "metadata": {},
   "outputs": [
    {
     "name": "stdout",
     "output_type": "stream",
     "text": [
      "Data1     0.840347\n",
      "Data2     0.068786\n",
      "Data3     0.090867\n",
      "Labels    0.238333\n",
      "dtype: float64\n",
      "Data1     0.256567\n",
      "Data2     0.176987\n",
      "Data3     0.214222\n",
      "Labels    0.597883\n",
      "dtype: float64\n"
     ]
    }
   ],
   "source": [
    "print(df[(df['G1'] == 'post')].mean())\n",
    "print(df[(df['G1'] == 'post')].std())"
   ]
  },
  {
   "cell_type": "code",
   "execution_count": 390,
   "id": "9b2201f5-f5ca-4319-9c26-eadd14c724e5",
   "metadata": {},
   "outputs": [
    {
     "name": "stdout",
     "output_type": "stream",
     "text": [
      "Data1     0.850845\n",
      "Data2     0.065640\n",
      "Data3     0.083515\n",
      "Labels    0.225897\n",
      "dtype: float64\n",
      "Data1     0.261362\n",
      "Data2     0.180916\n",
      "Data3     0.213256\n",
      "Labels    0.581128\n",
      "dtype: float64\n"
     ]
    }
   ],
   "source": [
    "print(df[(df['G2'] == 'control')].mean())\n",
    "print(df[(df['G2'] == 'control')].std())"
   ]
  },
  {
   "cell_type": "code",
   "execution_count": 391,
   "id": "03b2ecde",
   "metadata": {},
   "outputs": [
    {
     "name": "stdout",
     "output_type": "stream",
     "text": [
      "Data1     0.761921\n",
      "Data2     0.104109\n",
      "Data3     0.133970\n",
      "Labels    0.386389\n",
      "dtype: float64\n",
      "Data1     0.301566\n",
      "Data2     0.224494\n",
      "Data3     0.258224\n",
      "Labels    0.718418\n",
      "dtype: float64\n"
     ]
    }
   ],
   "source": [
    "print(df[(df['G2'] == 'escit')].mean())\n",
    "print(df[(df['G2'] == 'escit')].std())"
   ]
  },
  {
   "cell_type": "code",
   "execution_count": 392,
   "id": "a017d489",
   "metadata": {},
   "outputs": [
    {
     "name": "stdout",
     "output_type": "stream",
     "text": [
      "Data1     0.876691\n",
      "Data2     0.048449\n",
      "Data3     0.074861\n",
      "Labels    0.163750\n",
      "dtype: float64\n",
      "Data1     0.211484\n",
      "Data2     0.131884\n",
      "Data3     0.183781\n",
      "Labels    0.518555\n",
      "dtype: float64\n"
     ]
    }
   ],
   "source": [
    "print(df[(df['G2'] == 'mirt')].mean())\n",
    "print(df[(df['G2'] == 'mirt')].std())"
   ]
  },
  {
   "cell_type": "code",
   "execution_count": 393,
   "id": "071262a2",
   "metadata": {},
   "outputs": [
    {
     "name": "stdout",
     "output_type": "stream",
     "text": [
      "Data1     0.859083\n",
      "Data2     0.063167\n",
      "Data3     0.077749\n",
      "Labels    0.203056\n",
      "dtype: float64\n",
      "Data1     0.241779\n",
      "Data2     0.170455\n",
      "Data3     0.195770\n",
      "Labels    0.553492\n",
      "dtype: float64\n"
     ]
    }
   ],
   "source": [
    "print(df[(df['G2'] == 'tryp')].mean())\n",
    "print(df[(df['G2'] == 'tryp')].std())"
   ]
  },
  {
   "cell_type": "code",
   "execution_count": 369,
   "id": "3fa1d63d-39f7-4ce1-a8cb-8738322d06bf",
   "metadata": {},
   "outputs": [
    {
     "name": "stdout",
     "output_type": "stream",
     "text": [
      "Data1     0.864539\n",
      "Data2     0.058764\n",
      "Data3     0.076697\n",
      "Labels    0.204615\n",
      "dtype: float64\n",
      "Data1     0.252197\n",
      "Data2     0.171042\n",
      "Data3     0.205849\n",
      "Labels    0.559275\n",
      "dtype: float64\n"
     ]
    }
   ],
   "source": [
    "print(df[(df['G2'] == 'control') & (df['G1'] == 'pre')].mean())\n",
    "print(df[(df['G2'] == 'control') & (df['G1'] == 'pre')].std())"
   ]
  },
  {
   "cell_type": "code",
   "execution_count": 370,
   "id": "f89344bf-1b72-450e-b03b-838afd158f52",
   "metadata": {},
   "outputs": [
    {
     "name": "stdout",
     "output_type": "stream",
     "text": [
      "Data1     0.758624\n",
      "Data2     0.100887\n",
      "Data3     0.140489\n",
      "Labels    0.402222\n",
      "dtype: float64\n",
      "Data1     0.306440\n",
      "Data2     0.226700\n",
      "Data3     0.262776\n",
      "Labels    0.731561\n",
      "dtype: float64\n"
     ]
    }
   ],
   "source": [
    "print(df[(df['G2'] == 'escit') & (df['G1'] == 'pre')].mean())\n",
    "print(df[(df['G2'] == 'escit') & (df['G1'] == 'pre')].std())"
   ]
  },
  {
   "cell_type": "code",
   "execution_count": 371,
   "id": "f99e3eda-333d-46ea-8f91-3065f1b0369c",
   "metadata": {},
   "outputs": [
    {
     "name": "stdout",
     "output_type": "stream",
     "text": [
      "Data1     0.765219\n",
      "Data2     0.107330\n",
      "Data3     0.127451\n",
      "Labels    0.370556\n",
      "dtype: float64\n",
      "Data1     0.296662\n",
      "Data2     0.222282\n",
      "Data3     0.253495\n",
      "Labels    0.704878\n",
      "dtype: float64\n"
     ]
    }
   ],
   "source": [
    "print(df[(df['G2'] == 'escit') & (df['G1'] == 'post')].mean())\n",
    "print(df[(df['G2'] == 'escit') & (df['G1'] == 'post')].std())"
   ]
  },
  {
   "cell_type": "code",
   "execution_count": 372,
   "id": "4ed48d0e-5034-4584-acae-109791802c10",
   "metadata": {},
   "outputs": [
    {
     "name": "stdout",
     "output_type": "stream",
     "text": [
      "Data1     0.861432\n",
      "Data2     0.063385\n",
      "Data3     0.075183\n",
      "Labels    0.203333\n",
      "dtype: float64\n",
      "Data1     0.238374\n",
      "Data2     0.164301\n",
      "Data3     0.196137\n",
      "Labels    0.557719\n",
      "dtype: float64\n"
     ]
    }
   ],
   "source": [
    "print(df[(df['G2'] == 'tryp') & (df['G1'] == 'pre')].mean())\n",
    "print(df[(df['G2'] == 'tryp') & (df['G1'] == 'pre')].std())"
   ]
  },
  {
   "cell_type": "code",
   "execution_count": 373,
   "id": "3e62e46b-5c8f-4bff-9c8d-b8c48dfa0d8d",
   "metadata": {},
   "outputs": [
    {
     "name": "stdout",
     "output_type": "stream",
     "text": [
      "Data1     0.856734\n",
      "Data2     0.062949\n",
      "Data3     0.080316\n",
      "Labels    0.202778\n",
      "dtype: float64\n",
      "Data1     0.245181\n",
      "Data2     0.176440\n",
      "Data3     0.195423\n",
      "Labels    0.549388\n",
      "dtype: float64\n"
     ]
    }
   ],
   "source": [
    "print(df[(df['G2'] == 'tryp') & (df['G1'] == 'post')].mean())\n",
    "print(df[(df['G2'] == 'tryp') & (df['G1'] == 'post')].std())"
   ]
  },
  {
   "cell_type": "code",
   "execution_count": 374,
   "id": "b4559efa-416f-4d2f-b214-05cb3f2c7a9b",
   "metadata": {},
   "outputs": [
    {
     "name": "stdout",
     "output_type": "stream",
     "text": [
      "Data1     0.894886\n",
      "Data2     0.040328\n",
      "Data3     0.064786\n",
      "Labels    0.122917\n",
      "dtype: float64\n",
      "Data1     0.190440\n",
      "Data2     0.116301\n",
      "Data3     0.165308\n",
      "Labels    0.456500\n",
      "dtype: float64\n"
     ]
    }
   ],
   "source": [
    "print(df[(df['G2'] == 'mirt') & (df['G1'] == 'pre')].mean())\n",
    "print(df[(df['G2'] == 'mirt') & (df['G1'] == 'pre')].std())"
   ]
  },
  {
   "cell_type": "code",
   "execution_count": 375,
   "id": "078a1fda-673e-42e4-9c49-cf2ec83b3e37",
   "metadata": {},
   "outputs": [
    {
     "name": "stdout",
     "output_type": "stream",
     "text": [
      "Data1     0.858495\n",
      "Data2     0.056569\n",
      "Data3     0.084936\n",
      "Labels    0.204583\n",
      "dtype: float64\n",
      "Data1     0.229189\n",
      "Data2     0.145367\n",
      "Data3     0.200064\n",
      "Labels    0.571058\n",
      "dtype: float64\n"
     ]
    }
   ],
   "source": [
    "print(df[(df['G2'] == 'mirt') & (df['G1'] == 'post')].mean())\n",
    "print(df[(df['G2'] == 'mirt') & (df['G1'] == 'post')].std())"
   ]
  },
  {
   "cell_type": "code",
   "execution_count": 378,
   "id": "5bddc434",
   "metadata": {},
   "outputs": [
    {
     "name": "stdout",
     "output_type": "stream",
     "text": [
      "Data1     0.841305\n",
      "Data2     0.069286\n",
      "Data3     0.089409\n",
      "Labels    0.244138\n",
      "dtype: float64\n",
      "Data1     0.267846\n",
      "Data2     0.186477\n",
      "Data3     0.219577\n",
      "Labels    0.600826\n",
      "dtype: float64\n"
     ]
    }
   ],
   "source": [
    "print(df[(df['G2'] == 'control') | (df['G2'] == 'escit') & (df['G1'] == 'pre')].mean())\n",
    "print(df[(df['G2'] == 'control') | (df['G2'] == 'escit') & (df['G1'] == 'pre')].std())"
   ]
  },
  {
   "cell_type": "code",
   "execution_count": 379,
   "id": "b4a3ab38",
   "metadata": {},
   "outputs": [
    {
     "name": "stdout",
     "output_type": "stream",
     "text": [
      "Data1     0.841987\n",
      "Data2     0.069953\n",
      "Data3     0.088060\n",
      "Labels    0.240862\n",
      "dtype: float64\n",
      "Data1     0.266501\n",
      "Data2     0.186050\n",
      "Data3     0.218166\n",
      "Labels    0.596730\n",
      "dtype: float64\n"
     ]
    }
   ],
   "source": [
    "print(df[(df['G2'] == 'control') | (df['G2'] == 'escit') & (df['G1'] == 'post')].mean())\n",
    "print(df[(df['G2'] == 'control') | (df['G2'] == 'escit') & (df['G1'] == 'post')].std())"
   ]
  },
  {
   "cell_type": "code",
   "execution_count": 380,
   "id": "a11aab47",
   "metadata": {},
   "outputs": [
    {
     "name": "stdout",
     "output_type": "stream",
     "text": [
      "Data1     0.864753\n",
      "Data2     0.057647\n",
      "Data3     0.077600\n",
      "Labels    0.193377\n",
      "dtype: float64\n",
      "Data1     0.242091\n",
      "Data2     0.163718\n",
      "Data3     0.199551\n",
      "Labels    0.546949\n",
      "dtype: float64\n"
     ]
    }
   ],
   "source": [
    "print(df[(df['G2'] == 'control') | (df['G2'] == 'mirt') & (df['G1'] == 'pre')].mean())\n",
    "print(df[(df['G2'] == 'control') | (df['G2'] == 'mirt') & (df['G1'] == 'pre')].std())"
   ]
  },
  {
   "cell_type": "code",
   "execution_count": 381,
   "id": "e113653f",
   "metadata": {},
   "outputs": [
    {
     "name": "stdout",
     "output_type": "stream",
     "text": [
      "Data1     0.853261\n",
      "Data2     0.062775\n",
      "Data3     0.083964\n",
      "Labels    0.219167\n",
      "dtype: float64\n",
      "Data1     0.251667\n",
      "Data2     0.170541\n",
      "Data3     0.209177\n",
      "Labels    0.578040\n",
      "dtype: float64\n"
     ]
    }
   ],
   "source": [
    "print(df[(df['G2'] == 'control') | (df['G2'] == 'mirt') & (df['G1'] == 'post')].mean())\n",
    "print(df[(df['G2'] == 'control') | (df['G2'] == 'mirt') & (df['G1'] == 'post')].std())"
   ]
  },
  {
   "cell_type": "code",
   "execution_count": 382,
   "id": "cd84e7cd",
   "metadata": {},
   "outputs": [
    {
     "name": "stdout",
     "output_type": "stream",
     "text": [
      "Data1     0.851941\n",
      "Data2     0.065407\n",
      "Data3     0.082653\n",
      "Labels    0.223563\n",
      "dtype: float64\n",
      "Data1     0.259092\n",
      "Data2     0.179266\n",
      "Data3     0.211559\n",
      "Labels    0.578776\n",
      "dtype: float64\n"
     ]
    }
   ],
   "source": [
    "print(df[(df['G2'] == 'control') | (df['G2'] == 'tryp') & (df['G1'] == 'pre')].mean())\n",
    "print(df[(df['G2'] == 'control') | (df['G2'] == 'tryp') & (df['G1'] == 'pre')].std())"
   ]
  },
  {
   "cell_type": "code",
   "execution_count": 383,
   "id": "592b507c",
   "metadata": {},
   "outputs": [
    {
     "name": "stdout",
     "output_type": "stream",
     "text": [
      "Data1     0.851455\n",
      "Data2     0.065361\n",
      "Data3     0.083184\n",
      "Labels    0.223506\n",
      "dtype: float64\n",
      "Data1     0.259734\n",
      "Data2     0.180455\n",
      "Data3     0.211478\n",
      "Labels    0.577953\n",
      "dtype: float64\n"
     ]
    }
   ],
   "source": [
    "print(df[(df['G2'] == 'control') | (df['G2'] == 'tryp') & (df['G1'] == 'post')].mean())\n",
    "print(df[(df['G2'] == 'control') | (df['G2'] == 'tryp') & (df['G1'] == 'post')].std())"
   ]
  },
  {
   "cell_type": "code",
   "execution_count": null,
   "id": "3c7f36be",
   "metadata": {},
   "outputs": [],
   "source": []
  }
 ],
 "metadata": {
  "kernelspec": {
   "display_name": "Python 3 (ipykernel)",
   "language": "python",
   "name": "python3"
  },
  "language_info": {
   "codemirror_mode": {
    "name": "ipython",
    "version": 3
   },
   "file_extension": ".py",
   "mimetype": "text/x-python",
   "name": "python",
   "nbconvert_exporter": "python",
   "pygments_lexer": "ipython3",
   "version": "3.9.10"
  }
 },
 "nbformat": 4,
 "nbformat_minor": 5
}
